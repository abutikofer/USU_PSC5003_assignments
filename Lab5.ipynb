{
 "cells": [
  {
   "cell_type": "markdown",
   "id": "5dc61f9a-eace-436b-b51d-03aeb3da4695",
   "metadata": {},
   "source": [
    "## Lab 5 Land Classification"
   ]
  },
  {
   "cell_type": "markdown",
   "id": "9872c2c0-4340-438f-b535-afb9bf271eaa",
   "metadata": {},
   "source": [
    "### By: Ashley Butikofer"
   ]
  },
  {
   "cell_type": "raw",
   "id": "9417997b-4f00-4687-8538-ae91e00c8622",
   "metadata": {},
   "source": [
    "Always remember to enter this command in terminal: pip install -U geemap"
   ]
  },
  {
   "cell_type": "code",
   "execution_count": 1,
   "id": "3cab4b66-6cb4-49a5-ad49-8b515fce01a3",
   "metadata": {},
   "outputs": [
    {
     "data": {
      "application/vnd.jupyter.widget-view+json": {
       "model_id": "dcaf99f1f44e463cbdb86c3eea9850de",
       "version_major": 2,
       "version_minor": 0
      },
      "text/plain": [
       "Map(center=[20, 0], controls=(WidgetControl(options=['position', 'transparent_bg'], widget=HBox(children=(Togg…"
      ]
     },
     "metadata": {},
     "output_type": "display_data"
    }
   ],
   "source": [
    "import ee\n",
    "ee.Initialize()\n",
    "\n",
    "import geemap\n",
    "Map = geemap.Map()\n",
    "Map"
   ]
  },
  {
   "cell_type": "code",
   "execution_count": 2,
   "id": "23b22bd8-4916-4808-8428-979299955f77",
   "metadata": {},
   "outputs": [],
   "source": [
    "point = ee.Geometry.Point([-111.833839, 41.736980])\n",
    "\n",
    "landsat = ee.ImageCollection('LANDSAT/LC08/C02/T1_L2') \\\n",
    "    .filterBounds(point) \\\n",
    "    .filterDate('2021-05-01', '2021-07-31') \\\n",
    "    .sort('CLOUD_COVER') \\\n",
    "    .first() \\\n",
    "    .select('SR_B[1-7]')\n",
    "\n",
    "landsat = landsat.multiply(0.0000275).add(-0.2)\n",
    "\n",
    "\n",
    "vis_params = {\n",
    "    'min': 0,\n",
    "    'max': 0.2,\n",
    "    'bands': ['SR_B5', 'SR_B4', 'SR_B3']\n",
    "}"
   ]
  },
  {
   "cell_type": "code",
   "execution_count": 3,
   "id": "74e4b67f-534c-414f-a583-1c2194272ca7",
   "metadata": {},
   "outputs": [
    {
     "data": {
      "application/vnd.jupyter.widget-view+json": {
       "model_id": "dcaf99f1f44e463cbdb86c3eea9850de",
       "version_major": 2,
       "version_minor": 0
      },
      "text/plain": [
       "Map(bottom=754.0, center=[41.73698, -111.83383900000001], controls=(WidgetControl(options=['position', 'transp…"
      ]
     },
     "metadata": {},
     "output_type": "display_data"
    }
   ],
   "source": [
    "Map.centerObject(point, 8)\n",
    "Map.addLayer(landsat, vis_params, 'false color composite')\n",
    "\n",
    "Map\n"
   ]
  },
  {
   "cell_type": "code",
   "execution_count": 4,
   "id": "e0f89ff2-188c-4671-8118-cc47796350bc",
   "metadata": {},
   "outputs": [
    {
     "data": {
      "application/vnd.jupyter.widget-view+json": {
       "model_id": "dcaf99f1f44e463cbdb86c3eea9850de",
       "version_major": 2,
       "version_minor": 0
      },
      "text/plain": [
       "Map(bottom=24692.0, center=[41.73698, -111.83383900000001], controls=(WidgetControl(options=['position', 'tran…"
      ]
     },
     "metadata": {},
     "output_type": "display_data"
    }
   ],
   "source": [
    "img_name ='ndvi'\n",
    "ndvi=landsat.normalizedDifference(['SR_B5', 'SR_B4'])\n",
    "\n",
    "vis_params = {\n",
    "  'min': -0.2,\n",
    "  'max': 1.0,\n",
    "  'palette': ['blue','white','brown','yellow', 'lime', 'green','navy']}\n",
    "\n",
    "Map.addLayer(ndvi,vis_params,img_name)\n",
    "\n",
    "colors = vis_params['palette']\n",
    "vmin = vis_params['min']\n",
    "vmax = vis_params['max']\n",
    "\n",
    "Map.add_colorbar_branca(colors=colors, vmin=vmin, vmax=vmax, layer_name=img_name)\n",
    "\n",
    "Map"
   ]
  },
  {
   "cell_type": "markdown",
   "id": "3b6cee27-5f78-416c-8881-d0d647dd1968",
   "metadata": {},
   "source": [
    "## Bare Soil"
   ]
  },
  {
   "cell_type": "code",
   "execution_count": 7,
   "id": "716e4f64-73dd-43eb-bb7a-27e8982595d4",
   "metadata": {},
   "outputs": [
    {
     "data": {
      "application/vnd.jupyter.widget-view+json": {
       "model_id": "dcaf99f1f44e463cbdb86c3eea9850de",
       "version_major": 2,
       "version_minor": 0
      },
      "text/plain": [
       "Map(bottom=12514873.0, center=[41.531093688196115, -112.40295231342317], controls=(WidgetControl(options=['pos…"
      ]
     },
     "metadata": {},
     "output_type": "display_data"
    }
   ],
   "source": [
    "polygon = ee.Geometry.Polygon([\n",
    "                   [-112.404, 41.531],\n",
    "                   [-112.401, 41.531],\n",
    "                   [-112.401, 41.529],\n",
    "                   [-112.404, 41.529]]);\n",
    "\n",
    "# // Create a Feature from the Geometry.\n",
    "baresoil = ee.Feature(polygon, {'class': 2, 'name': 'baresoil'});\n",
    "Map.addLayer(baresoil, {'fill_color':'yellow', 'outline': 1}, name='baresoil')\n",
    "Map"
   ]
  },
  {
   "cell_type": "code",
   "execution_count": 9,
   "id": "2e69a453-fb95-4317-b281-42bb693dfaef",
   "metadata": {},
   "outputs": [
    {
     "data": {
      "application/vnd.jupyter.widget-view+json": {
       "model_id": "dcaf99f1f44e463cbdb86c3eea9850de",
       "version_major": 2,
       "version_minor": 0
      },
      "text/plain": [
       "Map(bottom=6259040.0, center=[41.507741718731985, -110.64254879951478], controls=(WidgetControl(options=['posi…"
      ]
     },
     "metadata": {},
     "output_type": "display_data"
    }
   ],
   "source": [
    "polygon = ee.Geometry.Polygon([\n",
    "                   [-110.640, 41.508],\n",
    "                   [-110.6363, 41.508],\n",
    "                   [-110.6363, 41.5052],\n",
    "                   [-110.640, 41.5052]]);\n",
    "\n",
    "# // Create a Feature from the Geometry.\n",
    "baresoil1 = ee.Feature(polygon, {'class': 2, 'name': 'baresoil1'});\n",
    "Map.addLayer(baresoil1, {'fill_color':'yellow', 'outline': 1}, name='baresoil1')\n",
    "Map"
   ]
  },
  {
   "cell_type": "code",
   "execution_count": 14,
   "id": "00419ee5-6f8b-45f9-9ae2-91fcb2f4c780",
   "metadata": {},
   "outputs": [
    {
     "data": {
      "application/vnd.jupyter.widget-view+json": {
       "model_id": "dcaf99f1f44e463cbdb86c3eea9850de",
       "version_major": 2,
       "version_minor": 0
      },
      "text/plain": [
       "Map(bottom=49052.0, center=[41.80407814427237, -111.22695922851564], controls=(WidgetControl(options=['positio…"
      ]
     },
     "metadata": {},
     "output_type": "display_data"
    }
   ],
   "source": [
    "polygon = ee.Geometry.Polygon([\n",
    "                   [-111.988, 42.014],\n",
    "                   [-111.9869, 42.014],\n",
    "                   [-111.9869, 42.0130],\n",
    "                   [-111.988, 42.0130]]);\n",
    "\n",
    "# // Create a Feature from the Geometry.\n",
    "baresoil2 = ee.Feature(polygon, {'class': 2, 'name': 'baresoil2'});\n",
    "Map.addLayer(baresoil2, {'fill_color':'yellow', 'outline': 1}, name='baresoil2')\n",
    "\n",
    "Map"
   ]
  },
  {
   "cell_type": "markdown",
   "id": "07e88013-6e45-4713-990d-d441cb31260f",
   "metadata": {},
   "source": [
    "## Vegetation"
   ]
  },
  {
   "cell_type": "code",
   "execution_count": 17,
   "id": "9f7fee69-728c-47cc-b1ea-8acb96f30c6b",
   "metadata": {},
   "outputs": [
    {
     "data": {
      "application/vnd.jupyter.widget-view+json": {
       "model_id": "dcaf99f1f44e463cbdb86c3eea9850de",
       "version_major": 2,
       "version_minor": 0
      },
      "text/plain": [
       "Map(bottom=12440171.0, center=[42.128283074354705, -111.98413074016572], controls=(WidgetControl(options=['pos…"
      ]
     },
     "metadata": {},
     "output_type": "display_data"
    }
   ],
   "source": [
    "polygon = ee.Geometry.Polygon([\n",
    "                 [-111.984, 42.1303],\n",
    "                 [-111.9826, 42.1303],\n",
    "                 [-111.9826, 42.129],\n",
    "                 [-111.984, 42.129]]);\n",
    "\n",
    "vegetation = ee.Feature(polygon, {'class': 1, 'name': 'vegetation'});\n",
    "Map.addLayer(vegetation, {'fill_color':'green', 'outline': 1}, name='vegetation')\n",
    "Map\n"
   ]
  },
  {
   "cell_type": "code",
   "execution_count": 21,
   "id": "3d8c654b-f1f4-462b-b711-57ce8b8b875e",
   "metadata": {},
   "outputs": [
    {
     "data": {
      "application/vnd.jupyter.widget-view+json": {
       "model_id": "dcaf99f1f44e463cbdb86c3eea9850de",
       "version_major": 2,
       "version_minor": 0
      },
      "text/plain": [
       "Map(bottom=12470658.0, center=[41.88523411175726, -111.59809648990633], controls=(WidgetControl(options=['posi…"
      ]
     },
     "metadata": {},
     "output_type": "display_data"
    }
   ],
   "source": [
    "polygon = ee.Geometry.Polygon([\n",
    "                 [-111.600, 41.8865],\n",
    "                 [-111.598, 41.8865],\n",
    "                 [-111.598, 41.885],\n",
    "                 [-111.600, 41.885]]);\n",
    "\n",
    "vegetation1 = ee.Feature(polygon, {'class': 1, 'name': 'vegetation1'});\n",
    "Map.addLayer(vegetation1, {'fill_color':'green', 'outline': 1}, name='vegetation1')\n",
    "Map"
   ]
  },
  {
   "cell_type": "code",
   "execution_count": 24,
   "id": "a9a0d978-4c17-4798-ac26-eec2fde512fe",
   "metadata": {},
   "outputs": [
    {
     "data": {
      "application/vnd.jupyter.widget-view+json": {
       "model_id": "dcaf99f1f44e463cbdb86c3eea9850de",
       "version_major": 2,
       "version_minor": 0
      },
      "text/plain": [
       "Map(bottom=12424473.0, center=[42.25306866804132, -111.0487049818039], controls=(WidgetControl(options=['posit…"
      ]
     },
     "metadata": {},
     "output_type": "display_data"
    }
   ],
   "source": [
    "polygon = ee.Geometry.Polygon([\n",
    "                 [-111.051, 42.2541],\n",
    "                 [-111.049, 42.2541],\n",
    "                 [-111.049, 42.253],\n",
    "                 [-111.051, 42.253]]);\n",
    "\n",
    "vegetation2 = ee.Feature(polygon, {'class': 1, 'name': 'vegetation2'});\n",
    "Map.addLayer(vegetation2, {'fill_color':'green', 'outline': 1}, name='vegetation2')\n",
    "Map"
   ]
  },
  {
   "cell_type": "markdown",
   "id": "b0849002-ace7-46c8-9119-8cfa625cdb1a",
   "metadata": {},
   "source": [
    "## Water"
   ]
  },
  {
   "cell_type": "code",
   "execution_count": 28,
   "id": "a3835b36-a9b8-4645-b3d6-f656affcfc54",
   "metadata": {},
   "outputs": [
    {
     "data": {
      "application/vnd.jupyter.widget-view+json": {
       "model_id": "dcaf99f1f44e463cbdb86c3eea9850de",
       "version_major": 2,
       "version_minor": 0
      },
      "text/plain": [
       "Map(bottom=24893376.0, center=[42.07521164063452, -111.30889803171159], controls=(WidgetControl(options=['posi…"
      ]
     },
     "metadata": {},
     "output_type": "display_data"
    }
   ],
   "source": [
    "polygon = ee.Geometry.Polygon([\n",
    "                   [-111.3108, 42.076],\n",
    "                   [-111.309, 42.076],\n",
    "                   [-111.309, 42.075],\n",
    "                   [-111.3108, 42.075]]);\n",
    "\n",
    "# // Create a Feature from the Geometry.\n",
    "water = ee.Feature(polygon, {'class': 0, 'name': 'water'});\n",
    "Map.addLayer(water, {'fill_color':'blue', 'outline': 1}, name='water')\n",
    "Map\n"
   ]
  },
  {
   "cell_type": "code",
   "execution_count": 33,
   "id": "50e328cd-477c-4a85-bbd9-fbfc367feb88",
   "metadata": {},
   "outputs": [
    {
     "data": {
      "application/vnd.jupyter.widget-view+json": {
       "model_id": "dcaf99f1f44e463cbdb86c3eea9850de",
       "version_major": 2,
       "version_minor": 0
      },
      "text/plain": [
       "Map(bottom=6274974.0, center=[41.251193368676326, -112.66306757926942], controls=(WidgetControl(options=['posi…"
      ]
     },
     "metadata": {},
     "output_type": "display_data"
    }
   ],
   "source": [
    "polygon = ee.Geometry.Polygon([\n",
    "                   [-112.6723, 41.255],\n",
    "                   [-112.666, 41.255],\n",
    "                   [-112.666, 41.252],\n",
    "                   [-112.6723, 41.252]]);\n",
    "\n",
    "# // Create a Feature from the Geometry.\n",
    "water1 = ee.Feature(polygon, {'class': 0, 'name': 'water1'});\n",
    "Map.addLayer(water1, {'fill_color':'blue', 'outline': 1}, name='water1')\n",
    "Map"
   ]
  },
  {
   "cell_type": "code",
   "execution_count": 37,
   "id": "d577d880-e8fa-4da7-a6d5-ac2a0c047f55",
   "metadata": {},
   "outputs": [
    {
     "data": {
      "application/vnd.jupyter.widget-view+json": {
       "model_id": "dcaf99f1f44e463cbdb86c3eea9850de",
       "version_major": 2,
       "version_minor": 0
      },
      "text/plain": [
       "Map(bottom=98298.0, center=[41.29638081886435, -111.98432922363283], controls=(WidgetControl(options=['positio…"
      ]
     },
     "metadata": {},
     "output_type": "display_data"
    }
   ],
   "source": [
    "polygon = ee.Geometry.Polygon([\n",
    "                   [-112.080, 41.3975],\n",
    "                   [-112.077, 41.3975],\n",
    "                   [-112.077, 41.395],\n",
    "                   [-112.080, 41.395]]);\n",
    "\n",
    "# // Create a Feature from the Geometry.\n",
    "water2 = ee.Feature(polygon, {'class': 0, 'name': 'water2'});\n",
    "Map.addLayer(water2, {'fill_color':'blue', 'outline': 1}, name='water2')\n",
    "Map"
   ]
  },
  {
   "cell_type": "markdown",
   "id": "21927e11-7b71-4d1a-82e0-0f234cd07414",
   "metadata": {},
   "source": [
    "#### Create feature collection"
   ]
  },
  {
   "cell_type": "code",
   "execution_count": 38,
   "id": "c57b29c3-59c1-43be-9839-e13886417568",
   "metadata": {},
   "outputs": [],
   "source": [
    "trainingFeatures = ee.FeatureCollection([water, water1, water2, vegetation, vegetation1, vegetation2, baresoil, baresoil1, baresoil2])"
   ]
  },
  {
   "cell_type": "code",
   "execution_count": 39,
   "id": "53ef1723-ad31-4782-8aaf-027a3f18ab1d",
   "metadata": {},
   "outputs": [],
   "source": [
    "predictionBands = ['SR_B2', 'SR_B3', 'SR_B4', 'SR_B5' ,'SR_B6','SR_B7']"
   ]
  },
  {
   "cell_type": "markdown",
   "id": "314fccf3-c29f-41b4-9624-08e59da801fe",
   "metadata": {},
   "source": [
    "#### Class Number Info"
   ]
  },
  {
   "cell_type": "code",
   "execution_count": 40,
   "id": "e3c77168-c62b-4f01-a48d-1bd0ed32ddc1",
   "metadata": {},
   "outputs": [
    {
     "name": "stdout",
     "output_type": "stream",
     "text": [
      "{'type': 'Feature', 'geometry': {'type': 'Polygon', 'coordinates': [[[-111.3108, 42.075], [-111.309, 42.075], [-111.309, 42.076], [-111.3108, 42.076], [-111.3108, 42.075]]]}, 'id': '0', 'properties': {'class': 0, 'name': 'water'}}\n"
     ]
    }
   ],
   "source": [
    "print(trainingFeatures.first().getInfo())"
   ]
  },
  {
   "cell_type": "code",
   "execution_count": 41,
   "id": "3689f573-85a3-4241-9345-48f473012769",
   "metadata": {},
   "outputs": [],
   "source": [
    "classifierTraining = landsat.select(predictionBands).sampleRegions(\n",
    "      collection= trainingFeatures, \n",
    "      properties= ['class'], \n",
    "      scale= 30\n",
    "    );"
   ]
  },
  {
   "cell_type": "code",
   "execution_count": 42,
   "id": "fe30f1b7-d24b-4f4f-af7a-2d323dd336b4",
   "metadata": {},
   "outputs": [],
   "source": [
    "# // Randomly split the data into 60% for training, and 40% for testing\n",
    "trainingTesting = classifierTraining.randomColumn('random',111009);\n",
    "\n",
    "training = trainingTesting.filter(ee.Filter.lt('random', 0.66));\n",
    "\n",
    "testing = trainingTesting.filter(ee.Filter.gte('random', 0.66));"
   ]
  },
  {
   "cell_type": "markdown",
   "id": "a1c85799-6343-4dc3-96dc-27ed3472a645",
   "metadata": {},
   "source": [
    "## Nonlinear Regression Functions"
   ]
  },
  {
   "cell_type": "code",
   "execution_count": 43,
   "id": "42358d38-3be5-45ac-af10-b10265f413b8",
   "metadata": {},
   "outputs": [
    {
     "data": {
      "text/html": [
       "<img src=\"https://i.imgur.com/vROsEiq.png\"/>"
      ],
      "text/plain": [
       "<IPython.core.display.Image object>"
      ]
     },
     "execution_count": 43,
     "metadata": {},
     "output_type": "execute_result"
    }
   ],
   "source": [
    "from IPython.display import Image\n",
    "from IPython.core.display import HTML \n",
    "Image(url= \"https://i.imgur.com/vROsEiq.png\")#, width=100, height=100)"
   ]
  },
  {
   "cell_type": "markdown",
   "id": "1807678a-2479-465f-8b8e-ca1a9e020882",
   "metadata": {},
   "source": [
    "### Cart"
   ]
  },
  {
   "cell_type": "code",
   "execution_count": 79,
   "id": "81a3d957-5fc1-4a36-aae1-8902e7d01ba5",
   "metadata": {},
   "outputs": [],
   "source": [
    "leaf_val=1\n",
    "\n",
    "cartclassifier = ee.Classifier.smileCart(minLeafPopulation=leaf_val).train(\n",
    "      features= training, \n",
    "      classProperty= 'class', \n",
    "      inputProperties= predictionBands\n",
    "    );"
   ]
  },
  {
   "cell_type": "code",
   "execution_count": 80,
   "id": "5b7b8b29-c323-4189-8191-9382b82e9d19",
   "metadata": {},
   "outputs": [
    {
     "data": {
      "application/vnd.jupyter.widget-view+json": {
       "model_id": "dcaf99f1f44e463cbdb86c3eea9850de",
       "version_major": 2,
       "version_minor": 0
      },
      "text/plain": [
       "Map(bottom=24647.0, center=[41.92271616673922, -111.26129150390626], controls=(WidgetControl(options=['positio…"
      ]
     },
     "metadata": {},
     "output_type": "display_data"
    }
   ],
   "source": [
    "cartClasifficationImage = landsat.select(predictionBands).classify(cartclassifier);\n",
    "\n",
    "Map.addLayer(cartClasifficationImage, {'min': 0, 'max': 2,\n",
    "                                   'palette':['blue', 'green','yellow']},'CART classification');\n",
    "Map"
   ]
  },
  {
   "cell_type": "markdown",
   "id": "d54987b1-9734-475d-a312-2cd42646813a",
   "metadata": {},
   "source": [
    "### Forest"
   ]
  },
  {
   "cell_type": "code",
   "execution_count": 73,
   "id": "7a6fbdbc-ae82-4948-8f7a-9eac48a1393d",
   "metadata": {},
   "outputs": [],
   "source": [
    "trees_val=13\n",
    "\n",
    "rfClassification = ee.Classifier.smileRandomForest(numberOfTrees=trees_val, seed=111009).train(\n",
    "      features= training, \n",
    "      classProperty= 'class', \n",
    "      inputProperties= predictionBands\n",
    "    )"
   ]
  },
  {
   "cell_type": "code",
   "execution_count": 74,
   "id": "f0e35035-95ea-4c01-b57f-3e84458acb06",
   "metadata": {},
   "outputs": [
    {
     "data": {
      "application/vnd.jupyter.widget-view+json": {
       "model_id": "dcaf99f1f44e463cbdb86c3eea9850de",
       "version_major": 2,
       "version_minor": 0
      },
      "text/plain": [
       "Map(bottom=24647.0, center=[41.92271616673922, -111.26129150390626], controls=(WidgetControl(options=['positio…"
      ]
     },
     "metadata": {},
     "output_type": "display_data"
    }
   ],
   "source": [
    "rfClassificationImage = landsat.select(predictionBands).classify(rfClassification);\n",
    "    \n",
    "# // Visualize the RF regression\n",
    "Map.addLayer(rfClassificationImage,  {'min': 0, 'max': 2,\n",
    "                                   'palette':['blue','green', 'yellow']}, 'RF classification');\n",
    "\n",
    "Map"
   ]
  },
  {
   "cell_type": "markdown",
   "id": "3a78dab5-f725-4840-a0fc-cbac3a98b257",
   "metadata": {},
   "source": [
    "### SVC"
   ]
  },
  {
   "cell_type": "code",
   "execution_count": 63,
   "id": "09d16d32-7d55-4b81-9d22-1707296f9a8a",
   "metadata": {},
   "outputs": [],
   "source": [
    "gamma_val =0.16\n",
    "\n",
    "# // Create an SVM classifier with custom parameters.\n",
    "svClassification = ee.Classifier.libsvm(svmType='C_SVC',kernelType='RBF',gamma=gamma_val).train(\n",
    "      features= training, \n",
    "      classProperty= 'class', \n",
    "      inputProperties= predictionBands\n",
    "    )"
   ]
  },
  {
   "cell_type": "code",
   "execution_count": 64,
   "id": "3699cc02-0431-4008-a8fd-1382b8992329",
   "metadata": {},
   "outputs": [
    {
     "data": {
      "application/vnd.jupyter.widget-view+json": {
       "model_id": "dcaf99f1f44e463cbdb86c3eea9850de",
       "version_major": 2,
       "version_minor": 0
      },
      "text/plain": [
       "Map(bottom=24647.0, center=[41.92271616673922, -111.26129150390626], controls=(WidgetControl(options=['positio…"
      ]
     },
     "metadata": {},
     "output_type": "display_data"
    }
   ],
   "source": [
    "svClassificationImage = landsat.select(predictionBands).classify(svClassification);\n",
    "    \n",
    "# // Visualize the RF regression\n",
    "Map.addLayer(svClassificationImage,{'min': 0, 'max': 2,\n",
    "                                   'palette':['blue', 'green','yellow']}, 'SV CLassification');\n",
    "Map"
   ]
  },
  {
   "cell_type": "markdown",
   "id": "29606056-3bff-4846-9123-757aadbd3531",
   "metadata": {},
   "source": [
    "## Confusion Matrix"
   ]
  },
  {
   "cell_type": "code",
   "execution_count": 50,
   "id": "5bff214b-85ba-4069-92c5-d814435ac4d9",
   "metadata": {},
   "outputs": [],
   "source": [
    "test=testing.classify(cartclassifier)\n",
    "# print(test.first().getInfo())\n",
    "# // Get a confusion matrix representing expected accuracy.\n",
    "testAccuracy = test.errorMatrix('class', 'classification');"
   ]
  },
  {
   "cell_type": "code",
   "execution_count": 51,
   "id": "31e08ae5-0c70-4487-b5ef-3327399c4d93",
   "metadata": {},
   "outputs": [
    {
     "name": "stdout",
     "output_type": "stream",
     "text": [
      "ConfusionMatrix\n",
      "[[96  0  0]\n",
      " [ 0 22  0]\n",
      " [ 0  0 61]]\n",
      "Overall Accuracy: 1\n",
      "Producers Accuracy: [[1], [1], [1]]\n",
      "Consumers Accuracy: [[1, 1, 1]]\n",
      "Kappa: 1\n"
     ]
    }
   ],
   "source": [
    "import numpy as np\n",
    "errormaxtrix=np.array(testAccuracy.array().getInfo())\n",
    "\n",
    "print(testAccuracy.name());\n",
    "print(errormaxtrix)\n",
    "print('Overall Accuracy:', testAccuracy.accuracy().getInfo());\n",
    "print('Producers Accuracy:', testAccuracy.producersAccuracy().getInfo());\n",
    "print('Consumers Accuracy:', testAccuracy.consumersAccuracy().getInfo());\n",
    "print('Kappa:', testAccuracy.kappa().getInfo());\n"
   ]
  },
  {
   "cell_type": "code",
   "execution_count": 52,
   "id": "b7220b05-56c8-416a-b6be-c232d6b3a7b4",
   "metadata": {},
   "outputs": [
    {
     "name": "stdout",
     "output_type": "stream",
     "text": [
      "ConfusionMatrix\n",
      "[[96  0  0]\n",
      " [ 0 22  0]\n",
      " [ 0  0 61]]\n",
      "Overall Accuracy: 1\n",
      "Producers Accuracy: [[1], [1], [1]]\n",
      "Consumers Accuracy: [[1, 1, 1]]\n",
      "Kappa: 1\n"
     ]
    }
   ],
   "source": [
    "test=testing.classify(rfClassification)\n",
    "# print(test.first().getInfo())\n",
    "# // Get a confusion matrix representing expected accuracy.\n",
    "testAccuracy = test.errorMatrix('class', 'classification');\n",
    "\n",
    "errormaxtrix=np.array(testAccuracy.array().getInfo())\n",
    "\n",
    "print(testAccuracy.name());\n",
    "print(errormaxtrix)\n",
    "print('Overall Accuracy:', testAccuracy.accuracy().getInfo());\n",
    "print('Producers Accuracy:', testAccuracy.producersAccuracy().getInfo());\n",
    "print('Consumers Accuracy:', testAccuracy.consumersAccuracy().getInfo());\n",
    "print('Kappa:', testAccuracy.kappa().getInfo());"
   ]
  },
  {
   "cell_type": "code",
   "execution_count": 53,
   "id": "0bf0a964-a347-4402-8bdb-40bd36901569",
   "metadata": {},
   "outputs": [
    {
     "name": "stdout",
     "output_type": "stream",
     "text": [
      "ConfusionMatrix\n",
      "[[96  0  0]\n",
      " [ 5 17  0]\n",
      " [ 0  0 61]]\n",
      "Overall Accuracy: 0.9720670391061452\n",
      "Producers Accuracy: [[1], [0.7727272727272727], [1]]\n",
      "Consumers Accuracy: [[0.9504950495049505, 1, 1]]\n",
      "Kappa: 0.9509589041095889\n"
     ]
    }
   ],
   "source": [
    "test=testing.classify(svClassification)\n",
    "# print(test.first().getInfo())\n",
    "# // Get a confusion matrix representing expected accuracy.\n",
    "testAccuracy = test.errorMatrix('class', 'classification');\n",
    "\n",
    "errormaxtrix=np.array(testAccuracy.array().getInfo())\n",
    "\n",
    "print(testAccuracy.name());\n",
    "print(errormaxtrix)\n",
    "print('Overall Accuracy:', testAccuracy.accuracy().getInfo());\n",
    "print('Producers Accuracy:', testAccuracy.producersAccuracy().getInfo());\n",
    "print('Consumers Accuracy:', testAccuracy.consumersAccuracy().getInfo());\n",
    "print('Kappa:', testAccuracy.kappa().getInfo());"
   ]
  },
  {
   "cell_type": "markdown",
   "id": "d060222a-1839-4cb2-abc6-de7f7546d93b",
   "metadata": {},
   "source": [
    "## Hyperparameter Tuning"
   ]
  },
  {
   "cell_type": "markdown",
   "id": "78fdfa68-28ae-47e4-8003-ddbd03948458",
   "metadata": {},
   "source": [
    "#### Forest"
   ]
  },
  {
   "cell_type": "code",
   "execution_count": 54,
   "id": "77ca00b0-b387-4cc3-8641-5e62d008bb79",
   "metadata": {},
   "outputs": [
    {
     "data": {
      "image/png": "[encoded data removed]",
      "text/plain": [
       "<Figure size 432x288 with 1 Axes>"
      ]
     },
     "metadata": {
      "needs_background": "light"
     },
     "output_type": "display_data"
    }
   ],
   "source": [
    "numTrees = ee.List.sequence(1, 20, 1)\n",
    "\n",
    "\n",
    "def trees(t):\n",
    "    rfclass = ee.Classifier.smileRandomForest(numberOfTrees=t, seed=111009).train(\n",
    "    features= training, \n",
    "    classProperty= 'class', \n",
    "    inputProperties= predictionBands)\n",
    "    \n",
    "    rfTesting = testing.classify(rfclass)\n",
    "    testAccuracy = rfTesting.errorMatrix('class', 'classification');\n",
    "    kappa= testAccuracy.kappa();       \n",
    "    return kappa\n",
    "\n",
    "\n",
    "kappa_trees=numTrees.map(trees)\n",
    "value_info = kappa_trees.getInfo()\n",
    "\n",
    "# print(rmse_trees.getInfo())\n",
    "\n",
    "import pandas as pd\n",
    "df =pd.DataFrame(value_info,columns=['kappa'])\n",
    "df['numTrees'] = numTrees.getInfo() \n",
    "\n",
    "ax =df.plot.line(x='numTrees', \n",
    "             y='kappa',\n",
    "             title= 'Impact of Number of Trees in Random Forest'\n",
    "             )\n",
    "ax.grid()"
   ]
  },
  {
   "cell_type": "markdown",
   "id": "ae3ee0b8-6fa1-4b99-b91e-b262828443cb",
   "metadata": {},
   "source": [
    "#### SVC"
   ]
  },
  {
   "cell_type": "code",
   "execution_count": 55,
   "id": "25d6c950-2dbd-4b2d-a71c-53ed148183a2",
   "metadata": {},
   "outputs": [
    {
     "data": {
      "image/png": "[encoded data removed]",
      "text/plain": [
       "<Figure size 432x288 with 1 Axes>"
      ]
     },
     "metadata": {
      "needs_background": "light"
     },
     "output_type": "display_data"
    }
   ],
   "source": [
    "gamma_vals = ee.List.sequence(0.01, 0.2, 0.05)\n",
    "\n",
    "\n",
    "def gammas(t):\n",
    "    svclass = ee.Classifier.libsvm(svmType='C_SVC',kernelType='RBF',gamma=t).train(\n",
    "      features= training, \n",
    "      classProperty= 'class', \n",
    "      inputProperties= predictionBands\n",
    "    )\n",
    "    \n",
    "    svTesting = testing.classify(svclass)\n",
    "    testAccuracy = svTesting.errorMatrix('class', 'classification');\n",
    "    kappa= testAccuracy.kappa();       \n",
    "    return kappa\n",
    "\n",
    "\n",
    "kappa_gama=gamma_vals.map(gammas)\n",
    "value_info = kappa_gama.getInfo()\n",
    "\n",
    "# print(rmse_gama.getInfo())\n",
    "\n",
    "import pandas as pd\n",
    "df =pd.DataFrame(value_info,columns=['kappa'])\n",
    "df['Gamma'] = gamma_vals.getInfo() \n",
    "\n",
    "ax =df.plot.line(x='Gamma', \n",
    "             y='kappa',\n",
    "             title= 'Impact of Gamma in SV'\n",
    "             )\n",
    "ax.grid()"
   ]
  },
  {
   "cell_type": "markdown",
   "id": "d5473cdd-e755-43bc-9b92-8fcd2653f0a4",
   "metadata": {},
   "source": [
    "#### Cart"
   ]
  },
  {
   "cell_type": "code",
   "execution_count": 56,
   "id": "166581d7-33fb-42e1-b33e-dc42b593a8a5",
   "metadata": {},
   "outputs": [
    {
     "data": {
      "image/png": "[encoded data removed]",
      "text/plain": [
       "<Figure size 432x288 with 1 Axes>"
      ]
     },
     "metadata": {
      "needs_background": "light"
     },
     "output_type": "display_data"
    }
   ],
   "source": [
    "leaf_vals = ee.List.sequence(1, 20, 1)\n",
    "\n",
    "\n",
    "def leaves(t):\n",
    "    cartclass= ee.Classifier.smileCart(minLeafPopulation=t).train(\n",
    "      features= training, \n",
    "      classProperty= 'class', \n",
    "      inputProperties= predictionBands\n",
    "    )\n",
    "    \n",
    "    cartTesting = testing.classify(cartclass)\n",
    "    testAccuracy = cartTesting.errorMatrix('class', 'classification');\n",
    "    kappa= testAccuracy.kappa();       \n",
    "    return kappa\n",
    "\n",
    "\n",
    "kappa_leaf=leaf_vals.map(leaves)\n",
    "value_info = kappa_leaf.getInfo()\n",
    "\n",
    "# print(rmse_gama.getInfo())\n",
    "\n",
    "import pandas as pd\n",
    "df =pd.DataFrame(value_info,columns=['kappa'])\n",
    "df['leaf'] = leaf_vals.getInfo() \n",
    "\n",
    "ax =df.plot.line(x='leaf', \n",
    "             y='kappa',\n",
    "             title= 'Impact of minLeafPopulation in cart'\n",
    "             )\n",
    "ax.grid()"
   ]
  },
  {
   "cell_type": "markdown",
   "id": "9ba9e777-dc1d-402b-bbce-933fe5d47a0b",
   "metadata": {},
   "source": [
    " ### Homework Question:\n",
    " Recreate this notebook for Logan UT, and add 3 more polygons that describe soil, vegetation and water (there must be 3 polygons per class). Make sure your CART, SVC and Random Forest uses the tuned hyperparameters when discussing your accuracy found. \n",
    " \n",
    " Are the models behaving similarly? Do they statistically perform different than this example? Discuss it."
   ]
  },
  {
   "cell_type": "markdown",
   "id": "66ca4926-1576-4e58-8bd3-cb1353db8daa",
   "metadata": {},
   "source": [
    "### ANSWER:"
   ]
  },
  {
   "cell_type": "markdown",
   "id": "3c30a136-7da5-4d67-adc6-1d6ac795d1e7",
   "metadata": {},
   "source": [
    "When running the hyperparameter tuning, the results show the highest accuracy of the SVC model at a value of 0.16 gamma. The model performed better at 0.16 than 0.1 by showing more vegetation instead of water in the vegetation areas. The Cart and Random Forest models both show equal accuracy at all values of the parameters. The confusion matrix accuracies show values above 95% for SVC, and the RF and Cart at 100%. The model that seems to work the best is the Random Forest model. It has high accuracy in the hyperparamter as well as confusion matrix and visually matches the NDVI map best. \n",
    "\n",
    "The Random Forest model in the Lab 5 example also had 100% accuracy in the confusion matrix. There was about 89% accuracy for SVC and 97% for Cart in the confusion matrices. The hyperparameters were highly accurate above the value 0.06 for the SVC model, above 5.0 for the Random Forest model and values below 17 for the Cart model. When using the hyperparamter tuning, the model that works the best for land classification was the Random Forest for the lab 5 example. The Cart model showed some water classification in vegetation areas and vice versa. The SVC model showed mostly water classification and little vegetation.\n",
    "\n",
    "The land classification worked better with multiple polygons than single polygons for each class. The confusion matrices were more successful in the multiple polygon classification than the single polygon classification. "
   ]
  },
  {
   "cell_type": "code",
   "execution_count": null,
   "id": "068f86c5-0b77-44fc-bee7-cb4ee97f17c6",
   "metadata": {},
   "outputs": [],
   "source": []
  }
 ],
 "metadata": {
  "kernelspec": {
   "display_name": "Python 3 (ipykernel)",
   "language": "python",
   "name": "python3"
  },
  "language_info": {
   "codemirror_mode": {
    "name": "ipython",
    "version": 3
   },
   "file_extension": ".py",
   "mimetype": "text/x-python",
   "name": "python",
   "nbconvert_exporter": "python",
   "pygments_lexer": "ipython3",
   "version": "3.9.7"
  }
 },
 "nbformat": 4,
 "nbformat_minor": 5
}
