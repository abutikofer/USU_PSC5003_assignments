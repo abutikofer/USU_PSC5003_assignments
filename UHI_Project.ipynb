{
 "cells": [
  {
   "cell_type": "markdown",
   "id": "5f384643-63da-48f4-90d6-02e7a7ec7900",
   "metadata": {
    "tags": []
   },
   "source": [
    "# UHI Remote Sensing of Weather Stations"
   ]
  },
  {
   "cell_type": "markdown",
   "id": "b0a6252c-d3da-4f21-bcd2-4cfc7aae0baf",
   "metadata": {},
   "source": [
    "#### By Ashley Butikofer"
   ]
  },
  {
   "cell_type": "markdown",
   "id": "5a3e7154-30fa-4699-923c-f5944654a933",
   "metadata": {},
   "source": [
    "## Land cover "
   ]
  },
  {
   "cell_type": "code",
   "execution_count": 1,
   "id": "c1324454-fd67-4a87-9aae-1d8ab0b442ef",
   "metadata": {},
   "outputs": [],
   "source": [
    "import ee\n",
    "ee.Initialize()\n",
    "import geemap"
   ]
  },
  {
   "cell_type": "code",
   "execution_count": null,
   "id": "b13ef4bb-98b0-4264-937f-ca29bba9c91d",
   "metadata": {},
   "outputs": [],
   "source": [
    "Map = geemap.Map(center=[41.745363,-111.795258], zoom=15)\n",
    "start_date = '2021-07-01'\n",
    "end_date = '2022-07-01'\n",
    "\n",
    "esri = ee.ImageCollection(\n",
    "    \"projects/sat-io/open-datasets/landcover/ESRI_Global-LULC_10m\"\n",
    ").mosaic()\n",
    "esri_vis = {\n",
    "    'min': 1,\n",
    "    'max':10,\n",
    "    'palette': [\n",
    "        \"#1A5BAB\",\n",
    "        \"#358221\",\n",
    "        \"#A7D282\",\n",
    "        \"#87D19E\",\n",
    "        \"#FFDB5C\",\n",
    "        \"#EECFA8\",\n",
    "        \"#ED022A\",\n",
    "        \"#EDE9E4\",\n",
    "        \"#F2FAFF\",\n",
    "        \"#C8C8C8\",\n",
    "    ],\n",
    "}\n",
    "\n",
    "Map.addLayer(esri, esri_vis, \"ESRI Land Cover\")\n",
    "Map.add_legend(title=\"ESRI Land Cover\", builtin_legend='ESRI_LandCover')\n",
    "\n",
    "Map"
   ]
  },
  {
   "cell_type": "code",
   "execution_count": 19,
   "id": "6e1f13b3-08c5-4af3-94cb-1b86f073e4f7",
   "metadata": {},
   "outputs": [],
   "source": [
    "Image = ee.ImageCollection(\"COPERNICUS/S2_SR_HARMONIZED\")\n",
    "\n",
    "latitude= 41.735210\n",
    "longitude= -111.834862\n",
    "\n",
    "point = ee.Geometry.Point([longitude, latitude])\n",
    "\n",
    "image = ee.Image(Sentinel\n",
    "    .filterBounds(point)\n",
    "    .filterDate('2021-06-01', '2021-09-01')\n",
    "    .sort('CLOUD_COVER_LAND')\n",
    "    .first())"
   ]
  },
  {
   "cell_type": "code",
   "execution_count": 20,
   "id": "7e539626-b749-4d05-a3e0-2561fddbfdba",
   "metadata": {},
   "outputs": [
    {
     "data": {
      "application/vnd.jupyter.widget-view+json": {
       "model_id": "6881697fe3184d4fa00f98b20afe78d0",
       "version_major": 2,
       "version_minor": 0
      },
      "text/plain": [
       "Map(center=[20, 0], controls=(WidgetControl(options=['position', 'transparent_bg'], widget=HBox(children=(Togg…"
      ]
     },
     "metadata": {},
     "output_type": "display_data"
    }
   ],
   "source": [
    "image = image.select(['B1', 'B2', 'B3', 'B4', 'B5', 'B6', 'B7']) \n",
    "                     \n",
    "image = image.multiply(0.0001)\n",
    "                     \n",
    "trueColor = {'bands': ['B4', 'B3', 'B2'], 'min': 0, 'max': 0.3}\n",
    "                     \n",
    "Map = geemap.Map()\n",
    "Map"
   ]
  },
  {
   "cell_type": "code",
   "execution_count": 21,
   "id": "a7845335-6fc5-4003-98ed-80460d0c2e95",
   "metadata": {},
   "outputs": [
    {
     "data": {
      "application/vnd.jupyter.widget-view+json": {
       "model_id": "6881697fe3184d4fa00f98b20afe78d0",
       "version_major": 2,
       "version_minor": 0
      },
      "text/plain": [
       "Map(bottom=754.0, center=[20, 0], controls=(WidgetControl(options=['position', 'transparent_bg'], widget=HBox(…"
      ]
     },
     "metadata": {},
     "output_type": "display_data"
    }
   ],
   "source": [
    "Map.addLayer(image, trueColor, name='Sentinel')\n",
    "\n",
    "#bounds = point.buffer(10000)\n",
    "#Map.centerObject(bounds)\n",
    "Map"
   ]
  },
  {
   "cell_type": "markdown",
   "id": "d21787fa-ec14-4374-afd4-377237288d94",
   "metadata": {},
   "source": [
    "## Working on Term Project\n"
   ]
  },
  {
   "cell_type": "code",
   "execution_count": null,
   "id": "2fe2beda-5088-45e2-9b38-8603d4395393",
   "metadata": {},
   "outputs": [],
   "source": []
  }
 ],
 "metadata": {
  "kernelspec": {
   "display_name": "Python 3 (ipykernel)",
   "language": "python",
   "name": "python3"
  },
  "language_info": {
   "codemirror_mode": {
    "name": "ipython",
    "version": 3
   },
   "file_extension": ".py",
   "mimetype": "text/x-python",
   "name": "python",
   "nbconvert_exporter": "python",
   "pygments_lexer": "ipython3",
   "version": "3.9.7"
  },
  "toc-showcode": true,
  "toc-showmarkdowntxt": true
 },
 "nbformat": 4,
 "nbformat_minor": 5
}
