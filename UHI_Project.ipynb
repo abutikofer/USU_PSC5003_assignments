{
 "cells": [
  {
   "cell_type": "markdown",
   "id": "5f384643-63da-48f4-90d6-02e7a7ec7900",
   "metadata": {
    "tags": []
   },
   "source": [
    "# UHI Remote Sensing of Weather Stations"
   ]
  },
  {
   "cell_type": "markdown",
   "id": "b0a6252c-d3da-4f21-bcd2-4cfc7aae0baf",
   "metadata": {},
   "source": [
    "#### By Ashley Butikofer"
   ]
  },
  {
   "cell_type": "markdown",
   "id": "5a3e7154-30fa-4699-923c-f5944654a933",
   "metadata": {},
   "source": [
    "## Land cover "
   ]
  },
  {
   "cell_type": "code",
   "execution_count": 1,
   "id": "c1324454-fd67-4a87-9aae-1d8ab0b442ef",
   "metadata": {},
   "outputs": [],
   "source": [
    "import ee\n",
    "import geemap"
   ]
  },
  {
   "cell_type": "code",
   "execution_count": 19,
   "id": "b13ef4bb-98b0-4264-937f-ca29bba9c91d",
   "metadata": {},
   "outputs": [
    {
     "data": {
      "application/vnd.jupyter.widget-view+json": {
       "model_id": "33b286ced397451f976bceb7aae7f763",
       "version_major": 2,
       "version_minor": 0
      },
      "text/plain": [
       "Map(center=[41.745363, -111.795258], controls=(WidgetControl(options=['position', 'transparent_bg'], widget=HB…"
      ]
     },
     "metadata": {},
     "output_type": "display_data"
    }
   ],
   "source": [
    "Map = geemap.Map(center=[41.745363,-111.795258], zoom=15)\n",
    "start_date = '2021-07-01'\n",
    "end_date = '2022-07-01'\n",
    "\n",
    "esri = ee.ImageCollection(\n",
    "    \"projects/sat-io/open-datasets/landcover/ESRI_Global-LULC_10m\"\n",
    ").mosaic()\n",
    "esri_vis = {\n",
    "    'min': 1,\n",
    "    'max':10,\n",
    "    'palette': [\n",
    "        \"#1A5BAB\",\n",
    "        \"#358221\",\n",
    "        \"#A7D282\",\n",
    "        \"#87D19E\",\n",
    "        \"#FFDB5C\",\n",
    "        \"#EECFA8\",\n",
    "        \"#ED022A\",\n",
    "        \"#EDE9E4\",\n",
    "        \"#F2FAFF\",\n",
    "        \"#C8C8C8\",\n",
    "    ],\n",
    "}\n",
    "\n",
    "Map.addLayer(esri, esri_vis, \"ESRI Land Cover\")\n",
    "Map.add_legend(title=\"ESRI Land Cover\", builtin_legend='ESRI_LandCover')\n",
    "\n",
    "Map"
   ]
  },
  {
   "cell_type": "code",
   "execution_count": null,
   "id": "b1e90abc-46e2-48db-940b-312a01d3800d",
   "metadata": {},
   "outputs": [],
   "source": []
  }
 ],
 "metadata": {
  "kernelspec": {
   "display_name": "Python 3 (ipykernel)",
   "language": "python",
   "name": "python3"
  },
  "language_info": {
   "codemirror_mode": {
    "name": "ipython",
    "version": 3
   },
   "file_extension": ".py",
   "mimetype": "text/x-python",
   "name": "python",
   "nbconvert_exporter": "python",
   "pygments_lexer": "ipython3",
   "version": "3.9.7"
  },
  "toc-showcode": true,
  "toc-showmarkdowntxt": true
 },
 "nbformat": 4,
 "nbformat_minor": 5
}
