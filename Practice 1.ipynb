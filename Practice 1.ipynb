{
 "cells": [
  {
   "cell_type": "markdown",
   "id": "6f270a51-f228-4887-882d-cd3f6c7a8255",
   "metadata": {},
   "source": [
    "# Practice #1: Learning how to use Jupyter Notebooks in Cuahsi HydroShare\n",
    "\n",
    "### By Ashley Butikofer\n",
    "\n",
    "This is an exercise where we learn how to manage and run code in this Python environment."
   ]
  },
  {
   "cell_type": "raw",
   "id": "7c8ebece-d43d-4d24-a5c5-caed54020ef8",
   "metadata": {},
   "source": [
    "# Note: pass the following command on a terminal before running this notebook.\n",
    "\n",
    "pip install -U geemap"
   ]
  },
  {
   "cell_type": "markdown",
   "id": "a8dab372-9ce3-4021-ab9c-c7b402357372",
   "metadata": {},
   "source": [
    "## 1. Calling geemap\n",
    "\n",
    "I am copying code from geemap notebook 108 to avoid the gee token set up."
   ]
  },
  {
   "cell_type": "code",
   "execution_count": 1,
   "id": "cff9f092-9520-4ae7-8330-551be9125d74",
   "metadata": {},
   "outputs": [],
   "source": [
    "import ee\n",
    "import geemap\n",
    "import geemap.colormaps as cm"
   ]
  },
  {
   "cell_type": "markdown",
   "id": "d59eedd6-7a52-4b39-a889-ef997c94bba6",
   "metadata": {},
   "source": [
    "## 2. Generate a Map"
   ]
  },
  {
   "cell_type": "code",
   "execution_count": 2,
   "id": "e10fbd85-eb6f-42f9-b011-254d42ec6a8c",
   "metadata": {},
   "outputs": [
    {
     "data": {
      "application/vnd.jupyter.widget-view+json": {
       "model_id": "f311be9816d04d41b3ad7aad24b19d1b",
       "version_major": 2,
       "version_minor": 0
      },
      "text/plain": [
       "Map(center=[40, -100], controls=(WidgetControl(options=['position', 'transparent_bg'], widget=HBox(children=(T…"
      ]
     },
     "metadata": {},
     "output_type": "display_data"
    }
   ],
   "source": [
    "Map = geemap.Map(center=[40, -100], zoom=4)\n",
    "Map"
   ]
  },
  {
   "cell_type": "raw",
   "id": "94874de8-40d0-4a0f-b47b-aab6fd5b1806",
   "metadata": {},
   "source": [
    "This produces a map centered on the United States"
   ]
  },
  {
   "cell_type": "markdown",
   "id": "59ec3697-3559-4a1d-b990-710c284c48b4",
   "metadata": {},
   "source": [
    "## 3. Define a Point of Interest"
   ]
  },
  {
   "cell_type": "markdown",
   "id": "32316221-c6e9-4a85-bc00-c09849dbb2fa",
   "metadata": {},
   "source": [
    "Let's find point of interest coordinates using the https://www.latlong.net/ website\n",
    "For Roy, UT"
   ]
  },
  {
   "cell_type": "code",
   "execution_count": 3,
   "id": "b33c68bf-c0be-425c-bc06-dc0d3a6b2f41",
   "metadata": {},
   "outputs": [],
   "source": [
    "latitude = 41.167381\n",
    "longitude = -112.033829\n",
    "\n",
    "aoi = ee.Geometry.Rectangle([-113.035607, 41.615032,-112.079158, 40.800920])"
   ]
  },
  {
   "cell_type": "code",
   "execution_count": 4,
   "id": "501a197b-97ab-4667-a99f-1990200b18af",
   "metadata": {},
   "outputs": [],
   "source": [
    "#point = ee.Geometry.Point([longitude, latitude])"
   ]
  },
  {
   "cell_type": "markdown",
   "id": "e681eb52-56b5-4af6-b784-c56b3b6eb0e9",
   "metadata": {},
   "source": [
    "## 4. Retrieve Satellite Imagery: Landsat 8"
   ]
  },
  {
   "cell_type": "code",
   "execution_count": 5,
   "id": "9f2fb9a6-7517-4d7a-99e3-6df18caf5b03",
   "metadata": {},
   "outputs": [],
   "source": [
    "landsat = ee.ImageCollection(\"LANDSAT/LC08/C02/T1_L2\")"
   ]
  },
  {
   "cell_type": "code",
   "execution_count": 6,
   "id": "4067755d-2c8b-45c2-bbfa-99189978fb06",
   "metadata": {},
   "outputs": [],
   "source": [
    "# Note that we need to cast the result of first() to Image.\n",
    "salt_lake = landsat.filterDate('2013-08-01', '2023-08-31').filterBounds(aoi)\n",
    "\n"
   ]
  },
  {
   "cell_type": "code",
   "execution_count": 7,
   "id": "721c14ce-6a58-4f7d-8e50-38a9ca00c856",
   "metadata": {},
   "outputs": [],
   "source": [
    "# Print the image band names to the console. Check in GEE website what wavebands these results indicate.\n",
    "#band_names = image.bandNames()\n",
    "#print(band_names.getInfo())"
   ]
  },
  {
   "cell_type": "code",
   "execution_count": 8,
   "id": "9d8c5ed2-0a97-4cda-933a-3f12d3c177e5",
   "metadata": {},
   "outputs": [],
   "source": [
    "# select only reflectance bands\n",
    "#image = image.select(['SR_B1', 'SR_B2', 'SR_B3', 'SR_B4', 'SR_B5', 'SR_B6', 'SR_B7'])\n",
    "# The image requires the scale = 2.75e-05 as shown online.\n",
    "#image = image.multiply(2.75e-05).add(-0.2)"
   ]
  },
  {
   "cell_type": "code",
   "execution_count": 9,
   "id": "0553f9d4-5670-4c87-8e96-97d9be3c6c8a",
   "metadata": {
    "tags": []
   },
   "outputs": [
    {
     "data": {
      "application/vnd.jupyter.widget-view+json": {
       "model_id": "d7ba505e33964f51992acc99abb3cade",
       "version_major": 2,
       "version_minor": 0
      },
      "text/plain": [
       "Map(center=[41.167381, -112.033829], controls=(WidgetControl(options=['position', 'transparent_bg'], widget=HB…"
      ]
     },
     "metadata": {},
     "output_type": "display_data"
    }
   ],
   "source": [
    "#// Add the image to the map, using the visualization parameters.\n",
    "Map = geemap.Map(center=(latitude, longitude), zoom=5)\n",
    "Map"
   ]
  },
  {
   "cell_type": "code",
   "execution_count": null,
   "id": "c2cd0adb-3f33-456f-b1a5-749e2bcd00d9",
   "metadata": {},
   "outputs": [],
   "source": []
  },
  {
   "cell_type": "code",
   "execution_count": 10,
   "id": "6121898b-299a-497f-8b15-6ade6b6d313f",
   "metadata": {},
   "outputs": [
    {
     "data": {
      "application/vnd.jupyter.widget-view+json": {
       "model_id": "d7ba505e33964f51992acc99abb3cade",
       "version_major": 2,
       "version_minor": 0
      },
      "text/plain": [
       "Map(center=[41.167381, -112.033829], controls=(WidgetControl(options=['position', 'transparent_bg'], widget=HB…"
      ]
     },
     "metadata": {},
     "output_type": "display_data"
    }
   ],
   "source": [
    "# // Center the map and display the image.\n",
    "#Map.setCenter(-122.1899, 37.5010, 10); # San Francisco Bay\n",
    "Map.addLayer(salt_lake, {'bands': ['SR_B4', 'SR_B3', 'SR_B2'],'min':0, 'max': 30000}, name='Landsat')\n",
    "Map\n"
   ]
  },
  {
   "cell_type": "code",
   "execution_count": 11,
   "id": "eda85ad8-ed6f-40b9-a969-415ddb54514b",
   "metadata": {
    "tags": []
   },
   "outputs": [],
   "source": [
    "#detecting water bodies in image\n",
    "def cal_ndwi(image):\n",
    "    ndwi = image.normalizedDifference(['SR_B3', 'SR_B6']).rename('NDWI');\n",
    "    return image.addBands(ndwi)\n",
    "\n",
    "ndwiCollection = salt_lake.map(cal_ndwi);"
   ]
  },
  {
   "cell_type": "code",
   "execution_count": 21,
   "id": "992818e4-bf8b-4809-8997-e9a6dce43789",
   "metadata": {},
   "outputs": [
    {
     "data": {
      "application/vnd.jupyter.widget-view+json": {
       "model_id": "d7ba505e33964f51992acc99abb3cade",
       "version_major": 2,
       "version_minor": 0
      },
      "text/plain": [
       "Map(bottom=24769.0, center=[41.422134246213616, -110.72570800781251], controls=(WidgetControl(options=['positi…"
      ]
     },
     "metadata": {},
     "output_type": "display_data"
    }
   ],
   "source": [
    "Map.addLayer(ndwiCollection, {'bands': ['NDWI'],'min':0, 'max': 1,}, name='NDWI')\n",
    "Map"
   ]
  },
  {
   "cell_type": "code",
   "execution_count": 19,
   "id": "fa059df7-8238-47ef-9c15-bdc36e915a2a",
   "metadata": {
    "tags": []
   },
   "outputs": [
    {
     "ename": "AttributeError",
     "evalue": "module 'geemap.colormaps' has no attribute 'palletes_terrain'",
     "output_type": "error",
     "traceback": [
      "\u001b[0;31m---------------------------------------------------------------------------\u001b[0m",
      "\u001b[0;31mAttributeError\u001b[0m                            Traceback (most recent call last)",
      "\u001b[0;32m/tmp/ipykernel_261/3596391855.py\u001b[0m in \u001b[0;36m<module>\u001b[0;34m\u001b[0m\n\u001b[1;32m      1\u001b[0m \u001b[0;31m#let's see the ndwi calculation in a map\u001b[0m\u001b[0;34m\u001b[0m\u001b[0;34m\u001b[0m\u001b[0m\n\u001b[1;32m      2\u001b[0m \u001b[0;31m#terrain_cmap = cm.palletes.terrain\u001b[0m\u001b[0;34m\u001b[0m\u001b[0;34m\u001b[0m\u001b[0m\n\u001b[0;32m----> 3\u001b[0;31m \u001b[0mcmap\u001b[0m \u001b[0;34m=\u001b[0m \u001b[0mcm\u001b[0m\u001b[0;34m.\u001b[0m\u001b[0mpalletes_terrain\u001b[0m\u001b[0;34m\u001b[0m\u001b[0;34m\u001b[0m\u001b[0m\n\u001b[0m\u001b[1;32m      4\u001b[0m \u001b[0;34m\u001b[0m\u001b[0m\n\u001b[1;32m      5\u001b[0m \u001b[0mMap2\u001b[0m\u001b[0;34m.\u001b[0m\u001b[0maddLayer\u001b[0m\u001b[0;34m(\u001b[0m\u001b[0mndwiCollection\u001b[0m\u001b[0;34m,\u001b[0m \u001b[0;34m{\u001b[0m\u001b[0;34m'bands'\u001b[0m\u001b[0;34m:\u001b[0m \u001b[0;34m[\u001b[0m\u001b[0;34m'NDWI'\u001b[0m\u001b[0;34m]\u001b[0m\u001b[0;34m,\u001b[0m\u001b[0;34m'min'\u001b[0m\u001b[0;34m:\u001b[0m\u001b[0;36m0\u001b[0m\u001b[0;34m,\u001b[0m \u001b[0;34m'max'\u001b[0m\u001b[0;34m:\u001b[0m \u001b[0;36m1\u001b[0m\u001b[0;34m,\u001b[0m \u001b[0;34m'pallete'\u001b[0m\u001b[0;34m:\u001b[0m \u001b[0mterrain_cmap\u001b[0m\u001b[0;34m}\u001b[0m\u001b[0;34m,\u001b[0m \u001b[0mname\u001b[0m\u001b[0;34m=\u001b[0m\u001b[0;34m'NDWI'\u001b[0m\u001b[0;34m)\u001b[0m\u001b[0;34m\u001b[0m\u001b[0;34m\u001b[0m\u001b[0m\n",
      "\u001b[0;31mAttributeError\u001b[0m: module 'geemap.colormaps' has no attribute 'palletes_terrain'"
     ]
    }
   ],
   "source": [
    "#let's see the ndwi calculation in a map\n",
    "#terrain_cmap = cm.palletes.terrain\n",
    "cmap = cm.palletes_terrain\n",
    "\n",
    "Map2.addLayer(ndwiCollection, {'bands': ['NDWI'],'min':0, 'max': 1, 'pallete': terrain_cmap}, name='NDWI')\n",
    "Map"
   ]
  },
  {
   "cell_type": "markdown",
   "id": "4f65e841-c055-48c4-b2b2-c9cb4df44892",
   "metadata": {},
   "source": [
    "there is an error with the colormaps feature"
   ]
  },
  {
   "cell_type": "code",
   "execution_count": null,
   "id": "c4bc6a8f-0ff1-48c3-9fcc-31229166bc44",
   "metadata": {},
   "outputs": [],
   "source": []
  }
 ],
 "metadata": {
  "kernelspec": {
   "display_name": "Python 3 (ipykernel)",
   "language": "python",
   "name": "python3"
  },
  "language_info": {
   "codemirror_mode": {
    "name": "ipython",
    "version": 3
   },
   "file_extension": ".py",
   "mimetype": "text/x-python",
   "name": "python",
   "nbconvert_exporter": "python",
   "pygments_lexer": "ipython3",
   "version": "3.9.7"
  }
 },
 "nbformat": 4,
 "nbformat_minor": 5
}
