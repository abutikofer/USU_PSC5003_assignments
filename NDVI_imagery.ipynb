{
 "cells": [
  {
   "cell_type": "markdown",
   "id": "c711dc1f-6d71-42b8-a1d6-c7702ff69cb8",
   "metadata": {},
   "source": [
    "## NDVI Images"
   ]
  },
  {
   "cell_type": "raw",
   "id": "6fb5785a-e133-4a66-8e6e-86921dd9c223",
   "metadata": {},
   "source": [
    "pip install eemont\n",
    "pip install geetools\n",
    "pip install -U geemap\n",
    "pip install eefolium"
   ]
  },
  {
   "cell_type": "code",
   "execution_count": 1,
   "id": "bdfa95a4-81fc-4906-8bfa-c2ab2b700b94",
   "metadata": {
    "tags": []
   },
   "outputs": [],
   "source": [
    "import ee, eemont, geemap\n",
    "import os\n",
    "import pandas as pd\n",
    "import numpy as np\n",
    "import seaborn as sns\n",
    "from matplotlib import pyplot as plt"
   ]
  },
  {
   "cell_type": "code",
   "execution_count": 2,
   "id": "baf71988-d150-4b38-a12c-fb802d783282",
   "metadata": {},
   "outputs": [],
   "source": [
    "ee.Initialize()\n",
    "Map = geemap.Map()"
   ]
  },
  {
   "cell_type": "markdown",
   "id": "b3a834c6-ce7d-4055-8930-75d176091f60",
   "metadata": {},
   "source": [
    "### Location"
   ]
  },
  {
   "cell_type": "code",
   "execution_count": 3,
   "id": "eb5975a1-4a98-4596-89aa-206ccca23727",
   "metadata": {},
   "outputs": [
    {
     "data": {
      "application/vnd.jupyter.widget-view+json": {
       "model_id": "f95afd6a6b15437cacdcd594e5684a39",
       "version_major": 2,
       "version_minor": 0
      },
      "text/plain": [
       "Map(center=[41.745000000000005, -111.79600000000002], controls=(WidgetControl(options=['position', 'transparen…"
      ]
     },
     "metadata": {},
     "output_type": "display_data"
    }
   ],
   "source": [
    "coop = ee.Geometry.Rectangle(-111.807, 41.748,-111.800, 41.743)\n",
    "golf = ee.Geometry.Rectangle(-111.793, 41.747, -111.786, 41.742)\n",
    "point = ee.Geometry.Point([-111.796, 41.745])\n",
    "\n",
    "Map.addLayer(coop,{},'COOP')\n",
    "Map.addLayer(golf,{},'GOLF')\n",
    "\n",
    "\n",
    "Map.centerObject(point, 16)\n",
    "Map"
   ]
  },
  {
   "cell_type": "markdown",
   "id": "840ebfac-b490-46ca-bf2c-b660b83fbf68",
   "metadata": {},
   "source": [
    "## NDVI COOP"
   ]
  },
  {
   "cell_type": "markdown",
   "id": "5421bdde-6697-49ac-bbf3-802fad32290d",
   "metadata": {},
   "source": [
    "##### Landsat 8 COOP"
   ]
  },
  {
   "cell_type": "code",
   "execution_count": 4,
   "id": "0ec503c0-7537-4adc-804b-016ff9fff831",
   "metadata": {},
   "outputs": [],
   "source": [
    "landsat8 = ee.ImageCollection(\"LANDSAT/LC08/C02/T1_L2\") #change\n",
    "\n",
    "coop1 = ee.Image(landsat8\n",
    "    .filterBounds(coop)\n",
    "    .filterDate('2022-07-01', '2022-08-01')\n",
    "    .sort('CLOUD_COVER_LAND')\n",
    "    .first())\n",
    "\n",
    "coop1 = coop1.select(['SR_B1', 'SR_B2', 'SR_B3', 'SR_B4', 'SR_B5', 'SR_B6', 'SR_B7', 'ST_B10'])\n",
    "\n",
    "\n",
    "coop1 = coop1.multiply(0.0000275).add(-0.2)"
   ]
  },
  {
   "cell_type": "code",
   "execution_count": 5,
   "id": "3772eea1-4cdf-4595-b4a5-52347a6d8f07",
   "metadata": {},
   "outputs": [],
   "source": [
    "ndvi1 = coop1.normalizedDifference(['SR_B5', 'SR_B4'])"
   ]
  },
  {
   "cell_type": "code",
   "execution_count": 6,
   "id": "da49ef3b-edea-478e-a0ef-c95b008f5934",
   "metadata": {},
   "outputs": [
    {
     "data": {
      "application/vnd.jupyter.widget-view+json": {
       "model_id": "f95afd6a6b15437cacdcd594e5684a39",
       "version_major": 2,
       "version_minor": 0
      },
      "text/plain": [
       "Map(bottom=6244248.0, center=[41.745000000000005, -111.79600000000002], controls=(WidgetControl(options=['posi…"
      ]
     },
     "metadata": {},
     "output_type": "display_data"
    }
   ],
   "source": [
    "vegPalette = ['white','red','yellow', 'green','blue']\n",
    "Map.addLayer(ndvi1, {'min': 0, 'max': 1.0, 'palette': vegPalette},name = 'NDVI1')\n",
    "\n",
    "Map"
   ]
  },
  {
   "cell_type": "markdown",
   "id": "c9c2588d-2a0e-4799-86ae-da232554f569",
   "metadata": {},
   "source": [
    "##### Landsat 5 COOP"
   ]
  },
  {
   "cell_type": "code",
   "execution_count": 7,
   "id": "4d422848-e006-4a30-bd20-b9591dc29b96",
   "metadata": {},
   "outputs": [],
   "source": [
    " landsat5 = ee.ImageCollection(\"LANDSAT/LT05/C02/T1_L2\")\n",
    " coop2 = ee.Image(landsat5\n",
    "     .filterBounds(coop)\n",
    "     .filterDate('1985-07-01', '1985-08-01')\n",
    "     .sort('CLOUD_COVER_LAND')\n",
    "     .first())\n",
    "\n",
    " coop2 = coop2.select(['SR_B1', 'SR_B2', 'SR_B3', 'SR_B4', 'SR_B5'])\n",
    "\n",
    "\n",
    " coop2 = coop2.multiply(0.0000275).add(-0.2)"
   ]
  },
  {
   "cell_type": "code",
   "execution_count": 8,
   "id": "865767d9-b01c-4f6c-94a9-cdd7fc269c69",
   "metadata": {},
   "outputs": [],
   "source": [
    " ndvi3 = coop2.normalizedDifference(['SR_B4', 'SR_B3'])"
   ]
  },
  {
   "cell_type": "code",
   "execution_count": 9,
   "id": "8ee95b53-f359-4f88-8b34-741b3af946f4",
   "metadata": {},
   "outputs": [
    {
     "data": {
      "application/vnd.jupyter.widget-view+json": {
       "model_id": "f95afd6a6b15437cacdcd594e5684a39",
       "version_major": 2,
       "version_minor": 0
      },
      "text/plain": [
       "Map(bottom=6244248.0, center=[41.745000000000005, -111.79600000000002], controls=(WidgetControl(options=['posi…"
      ]
     },
     "metadata": {},
     "output_type": "display_data"
    }
   ],
   "source": [
    " vegPalette = ['white','red','yellow', 'green','blue']\n",
    " Map.addLayer(ndvi3, {'min': 0, 'max': 1.0, 'palette': vegPalette},name = 'NDVI3')\n",
    "\n",
    " Map"
   ]
  },
  {
   "cell_type": "markdown",
   "id": "0cc9dda5-2dbe-4a05-b01c-f5bc9f99f74f",
   "metadata": {},
   "source": [
    "#### Clip and Mean of COOP"
   ]
  },
  {
   "cell_type": "code",
   "execution_count": 10,
   "id": "8accac3c-5dd6-401f-8158-70515d6f9853",
   "metadata": {},
   "outputs": [],
   "source": [
    "ndvi1_coop = ndvi1.clip(coop)\n",
    "ndvi3_coop = ndvi3.clip(coop)"
   ]
  },
  {
   "cell_type": "code",
   "execution_count": 11,
   "id": "3c87faea-1d85-443b-9c35-4f3083fddf88",
   "metadata": {},
   "outputs": [],
   "source": [
    "ndvi1_mean = ndvi1.reduceRegion(reducer=ee.Reducer.mean(), geometry= coop, scale=30).get('nd')"
   ]
  },
  {
   "cell_type": "code",
   "execution_count": 12,
   "id": "7cc8228c-a787-4e51-a19c-5050312bdb6e",
   "metadata": {},
   "outputs": [],
   "source": [
    "ndvi3_mean = ndvi3.reduceRegion(reducer=ee.Reducer.mean(), geometry= coop, scale=30).get('nd')"
   ]
  },
  {
   "cell_type": "code",
   "execution_count": 13,
   "id": "d0ab6167-d262-4363-9223-c5b0a228891d",
   "metadata": {},
   "outputs": [
    {
     "name": "stdout",
     "output_type": "stream",
     "text": [
      "Average NDVI: 0.35923367759898656\n"
     ]
    }
   ],
   "source": [
    "print('Average NDVI:', ndvi1_mean.getInfo())"
   ]
  },
  {
   "cell_type": "code",
   "execution_count": 14,
   "id": "09dbc4a5-8887-4341-9871-ae6fb67e8782",
   "metadata": {},
   "outputs": [
    {
     "name": "stdout",
     "output_type": "stream",
     "text": [
      "Average NDVI: 0.3505990223217568\n"
     ]
    }
   ],
   "source": [
    "print('Average NDVI:', ndvi3_mean.getInfo())"
   ]
  },
  {
   "cell_type": "markdown",
   "id": "3ad9351b-85a2-43fc-bf1e-cf3f317fd4f1",
   "metadata": {},
   "source": [
    "## NDVI GOLF"
   ]
  },
  {
   "cell_type": "markdown",
   "id": "7d0f0801-786d-424f-8ae9-14c47148d7e3",
   "metadata": {},
   "source": [
    "##### Landsat 8 Golf"
   ]
  },
  {
   "cell_type": "code",
   "execution_count": 15,
   "id": "d7323877-7373-44f0-bcb5-cd80399c506b",
   "metadata": {},
   "outputs": [],
   "source": [
    "landsat8 =ee.ImageCollection(\"LANDSAT/LC08/C02/T1_L2\") #change\n",
    "\n",
    "golf1 = ee.Image(landsat8\n",
    "    .filterBounds(golf)\n",
    "    .filterDate('2022-07-01', '2022-08-01')\n",
    "    .sort('CLOUD_COVER_LAND')\n",
    "    .first())\n",
    "\n",
    "golf1 = golf1.select(['SR_B1', 'SR_B2', 'SR_B3', 'SR_B4', 'SR_B5', 'SR_B6', 'SR_B7'])\n",
    "\n",
    "\n",
    "golf1 = golf1.multiply(0.0000275).add(-0.2)"
   ]
  },
  {
   "cell_type": "code",
   "execution_count": 16,
   "id": "efe0d440-a8f5-4589-9c0d-2b7e014469a3",
   "metadata": {},
   "outputs": [],
   "source": [
    "ndvi2 = golf1.normalizedDifference(['SR_B5', 'SR_B4'])"
   ]
  },
  {
   "cell_type": "code",
   "execution_count": 17,
   "id": "28a71be8-de67-432e-86bc-6db803f6d7f3",
   "metadata": {},
   "outputs": [
    {
     "data": {
      "application/vnd.jupyter.widget-view+json": {
       "model_id": "f95afd6a6b15437cacdcd594e5684a39",
       "version_major": 2,
       "version_minor": 0
      },
      "text/plain": [
       "Map(bottom=6244248.0, center=[41.745000000000005, -111.79600000000002], controls=(WidgetControl(options=['posi…"
      ]
     },
     "metadata": {},
     "output_type": "display_data"
    }
   ],
   "source": [
    "vegPalette = ['white','red','yellow', 'green','blue']\n",
    "Map.addLayer(ndvi2, {'min': 0, 'max': 1.0, 'palette': vegPalette},name = 'NDVI2')\n",
    "\n",
    "Map"
   ]
  },
  {
   "cell_type": "markdown",
   "id": "e74f179c-c130-4574-a67a-4393088e76fd",
   "metadata": {},
   "source": [
    "##### Landsat 5 Golf"
   ]
  },
  {
   "cell_type": "code",
   "execution_count": 18,
   "id": "69aa5622-bd99-45e6-8b55-4d6120a72f93",
   "metadata": {},
   "outputs": [],
   "source": [
    " landsat5 = ee.ImageCollection(\"LANDSAT/LT05/C02/T1_L2\")\n",
    " golf2 = ee.Image(landsat5\n",
    "     .filterBounds(golf)\n",
    "     .filterDate('1985-07-01', '1985-08-01')\n",
    "     .sort('CLOUD_COVER_LAND')\n",
    "     .first())\n",
    "\n",
    " golf2 = golf2.select(['SR_B1', 'SR_B2', 'SR_B3', 'SR_B4', 'SR_B5'])\n",
    "\n",
    "\n",
    " golf2 = golf2.multiply(0.0000275).add(-0.2)"
   ]
  },
  {
   "cell_type": "code",
   "execution_count": 19,
   "id": "ad0de53f-2ef5-435c-a498-b9cc786884c9",
   "metadata": {},
   "outputs": [],
   "source": [
    " ndvi4 = golf2.normalizedDifference(['SR_B4', 'SR_B3'])"
   ]
  },
  {
   "cell_type": "code",
   "execution_count": 20,
   "id": "0eaa4de1-f0d2-413a-95c7-311ddd7cf3e0",
   "metadata": {},
   "outputs": [
    {
     "data": {
      "application/vnd.jupyter.widget-view+json": {
       "model_id": "f95afd6a6b15437cacdcd594e5684a39",
       "version_major": 2,
       "version_minor": 0
      },
      "text/plain": [
       "Map(bottom=6244248.0, center=[41.745000000000005, -111.79600000000002], controls=(WidgetControl(options=['posi…"
      ]
     },
     "metadata": {},
     "output_type": "display_data"
    }
   ],
   "source": [
    " vegPalette = ['white','red','yellow', 'green','blue']\n",
    " Map.addLayer(ndvi4, {'min': 0, 'max': 1.0, 'palette': vegPalette},name = 'NDVI4')\n",
    "\n",
    " Map"
   ]
  },
  {
   "cell_type": "markdown",
   "id": "c690c72c-bb22-4638-9764-96acc31aa837",
   "metadata": {},
   "source": [
    "#### Clip and Mean of Golf"
   ]
  },
  {
   "cell_type": "code",
   "execution_count": 21,
   "id": "b1ffdf98-e1af-4b39-966f-4759215c7a52",
   "metadata": {},
   "outputs": [],
   "source": [
    "ndvi2_golf = ndvi2.clip(golf)\n",
    "ndvi4_golf = ndvi4.clip(golf)"
   ]
  },
  {
   "cell_type": "code",
   "execution_count": 22,
   "id": "005763ad-1fa5-41bb-875a-ef97b36d160d",
   "metadata": {},
   "outputs": [],
   "source": [
    "ndvi2_mean = ndvi2.reduceRegion(reducer=ee.Reducer.mean(), geometry= golf, scale=30).get('nd')\n",
    "ndvi4_mean = ndvi4.reduceRegion(reducer=ee.Reducer.mean(), geometry= golf, scale=30).get('nd')"
   ]
  },
  {
   "cell_type": "code",
   "execution_count": 23,
   "id": "d7398462-9f77-4db8-bdd7-000c52015631",
   "metadata": {},
   "outputs": [
    {
     "name": "stdout",
     "output_type": "stream",
     "text": [
      "Average NDVI: 0.5359658714041826\n"
     ]
    }
   ],
   "source": [
    "print('Average NDVI:', ndvi2_mean.getInfo())"
   ]
  },
  {
   "cell_type": "code",
   "execution_count": 24,
   "id": "ca2a9955-96a1-47c0-82fd-1584a6951643",
   "metadata": {},
   "outputs": [
    {
     "name": "stdout",
     "output_type": "stream",
     "text": [
      "Average NDVI: 0.4060454849104186\n"
     ]
    }
   ],
   "source": [
    "print('Average NDVI:', ndvi4_mean.getInfo())"
   ]
  },
  {
   "cell_type": "markdown",
   "id": "1f96876d-0404-4b30-9dae-2a87112e016a",
   "metadata": {},
   "source": [
    "### Add Color Bar"
   ]
  },
  {
   "cell_type": "code",
   "execution_count": 25,
   "id": "a3fbcea7-6bb8-41de-9049-f066b836bdc1",
   "metadata": {},
   "outputs": [],
   "source": [
    "import eefolium"
   ]
  },
  {
   "cell_type": "code",
   "execution_count": 26,
   "id": "314ec809-377c-4fa4-af6a-299da0fd633f",
   "metadata": {
    "tags": []
   },
   "outputs": [],
   "source": [
    "# Define the color palette and legend labels\n",
    "#labels = ['-1.0', '-0.8', '-0.6', '-0.4', '-0.2', '0.0', '0.2', '0.4']\n",
    "labels = ['0', '0.2', '0.4', '0.6', '0.8', '1']\n",
    "#vegPalette = ['#d73027', '#f46d43', '#fdae61', '#fee08b', '#d9ef8b', '#a6d96a', '#66bd63', '#1a9850']\n",
    "vegPalette = ['#d73027', '#f46d43', '#fee08b', '#a6d96a', '#66bd63', '#1a9850']\n",
    "# Create the map and add the NDVI layer\n",
    "map = eefolium.Map()\n",
    "# map.addLayer(ndvi1, {'min': -1, 'max': 1, 'palette': vegPalette}, 'NDVI')\n",
    "\n",
    "# Add the legend to the map\n",
    "Map.add_legend(colors=vegPalette, labels=labels, title='NDVI')\n",
    "\n"
   ]
  },
  {
   "cell_type": "code",
   "execution_count": 27,
   "id": "38377aed-9aa9-4da4-87f9-cac9a3af1eed",
   "metadata": {},
   "outputs": [],
   "source": [
    "#vegPalette = ['#d73027', '#f46d43', '#fdae61', '#fee08b', '#d9ef8b', '#a6d96a', '#66bd63', '#1a9850']\n",
    "#labels = ['0', '0', '-0.6', '-0.4', '-0.2', '0.0', '0.2', '0.4']"
   ]
  },
  {
   "cell_type": "code",
   "execution_count": 28,
   "id": "c4cc0c37-3acc-46a5-827a-a5b976346d6f",
   "metadata": {},
   "outputs": [],
   "source": [
    "#Map.add_colorbar(vegPalette, vmin=0, vmax=1, caption='NDVI')"
   ]
  },
  {
   "cell_type": "markdown",
   "id": "a750624e-4747-4ad0-9642-b87122ad23a7",
   "metadata": {},
   "source": [
    "### Download Images "
   ]
  },
  {
   "cell_type": "code",
   "execution_count": 29,
   "id": "6d60271a-2046-49e5-a5b5-702dcdd27264",
   "metadata": {
    "tags": []
   },
   "outputs": [],
   "source": [
    "# import ee\n",
    "# import urllib\n",
    "\n",
    "# ee.Authenticate()\n",
    "# ee.Initialize()\n",
    "\n",
    "# url = ndvi1_coop.getThumbURL({\n",
    "#     'min': 0,\n",
    "#     'max': 1.0,\n",
    "#     'palette': vegPalette,\n",
    "#     'region': coop,\n",
    "#     'dimensions': '800x600'\n",
    "# })\n",
    "\n",
    "# urllib.request.urlretrieve(url, 'NDVI_coop1_image.png')"
   ]
  },
  {
   "cell_type": "code",
   "execution_count": 30,
   "id": "56596453-6355-4a57-92f6-95ff833ea530",
   "metadata": {},
   "outputs": [],
   "source": [
    "# import ee\n",
    "# import urllib\n",
    "\n",
    "# ee.Authenticate()\n",
    "# ee.Initialize()\n",
    "\n",
    "# url = ndvi2_golf.getThumbURL({\n",
    "#     'min': 0,\n",
    "#     'max': 1.0,\n",
    "#     'palette': vegPalette,\n",
    "#     'region': golf,\n",
    "#     'dimensions': '800x600'\n",
    "# })\n",
    "\n",
    "# urllib.request.urlretrieve(url, 'NDVI_golf1_image.png')"
   ]
  },
  {
   "cell_type": "code",
   "execution_count": 31,
   "id": "6e8731c1-e51b-451d-bb6b-e3b581c5ab23",
   "metadata": {},
   "outputs": [],
   "source": [
    "# import ee\n",
    "# import urllib\n",
    "\n",
    "# ee.Authenticate()\n",
    "# ee.Initialize()\n",
    "\n",
    "# url = ndvi3_coop.getThumbURL({\n",
    "#     'min': 0,\n",
    "#     'max': 1.0,\n",
    "#     'palette': vegPalette,\n",
    "#     'region': coop,\n",
    "#     'dimensions': '800x600'\n",
    "# })\n",
    "\n",
    "# urllib.request.urlretrieve(url, 'NDVI_coop2_image.png')"
   ]
  },
  {
   "cell_type": "code",
   "execution_count": 32,
   "id": "c6fc4896-35f5-4a20-bc68-f065eba65507",
   "metadata": {},
   "outputs": [],
   "source": [
    "# import ee\n",
    "# import urllib\n",
    "\n",
    "# ee.Authenticate()\n",
    "# ee.Initialize()\n",
    "\n",
    "# url = ndvi4_golf.getThumbURL({\n",
    "#     'min': 0,\n",
    "#     'max': 1.0,\n",
    "#     'palette': vegPalette,\n",
    "#     'region': golf,\n",
    "#     'dimensions': '800x600'\n",
    "# })\n",
    "\n",
    "# urllib.request.urlretrieve(url, 'NDVI_golf2_image.png')"
   ]
  },
  {
   "cell_type": "markdown",
   "id": "48ea3817-9ec1-4e92-8f87-72eb8dbbd061",
   "metadata": {},
   "source": [
    "# Timeseries plot of NDVI "
   ]
  },
  {
   "cell_type": "markdown",
   "id": "dca1b8ba-b745-40b9-8afe-855bfa0b86cf",
   "metadata": {},
   "source": [
    "### Process/Merge Collections from both Satellites"
   ]
  },
  {
   "cell_type": "code",
   "execution_count": 33,
   "id": "99f83ba2-963f-4cb2-a4ce-e481c81cbdf1",
   "metadata": {
    "tags": []
   },
   "outputs": [],
   "source": [
    "stations = ee.FeatureCollection([\n",
    "    ee.Feature(coop,{'station':0}),\n",
    "    ee.Feature(golf,{'station':1})    \n",
    "])"
   ]
  },
  {
   "cell_type": "code",
   "execution_count": 34,
   "id": "5db9cea6-66e6-4747-bddf-08e93ae58890",
   "metadata": {},
   "outputs": [],
   "source": [
    "def maskSnow(image):\n",
    "# // to Landsat 8 imagery.\n",
    "    N = image.select('B5')\n",
    "    G = image.select('B3')\n",
    "    NDSI =image.normalizedDifference(['B3', 'B6'])\n",
    "    snowPixels = (NDSI > 0.4) & (N >= 0.1) & (G > 0.11)\n",
    "    return image.updateMask(~snowPixels)"
   ]
  },
  {
   "cell_type": "code",
   "execution_count": 35,
   "id": "2197e100-0683-4b20-8bc3-26cc2a36bdcb",
   "metadata": {},
   "outputs": [],
   "source": [
    "L8 = (ee.ImageCollection('LANDSAT/LC08/C01/T1_SR')\n",
    "      .filterBounds(stations)\n",
    "      .maskClouds()\n",
    "      .scaleAndOffset()\n",
    "      .spectralIndices(['NDVI'])).map(maskSnow)"
   ]
  },
  {
   "cell_type": "code",
   "execution_count": 36,
   "id": "ef113342-5534-4527-9f8d-77da871a28b1",
   "metadata": {},
   "outputs": [],
   "source": [
    "def maskSnow(image):\n",
    "# // to Landsat 5 imagery.\n",
    "    N = image.select('SR_B4')\n",
    "    G = image.select('SR_B2')\n",
    "    NDSI =image.normalizedDifference(['SR_B2', 'SR_B5'])\n",
    "    snowPixels = (NDSI > 0.4) & (N >= 0.1) & (G > 0.11)\n",
    "    return image.updateMask(~snowPixels)"
   ]
  },
  {
   "cell_type": "code",
   "execution_count": 37,
   "id": "81102b62-dd46-43ad-9c33-46446a497cee",
   "metadata": {},
   "outputs": [],
   "source": [
    "L5 = (ee.ImageCollection(\"LANDSAT/LT05/C02/T1_L2\")\n",
    "      .filterBounds(stations)\n",
    "      .maskClouds()\n",
    "      .scaleAndOffset()\n",
    "      .spectralIndices(['NDVI'])).map(maskSnow)"
   ]
  },
  {
   "cell_type": "code",
   "execution_count": 38,
   "id": "73831ec0-52e0-4ef4-ab28-3b86fcee6174",
   "metadata": {},
   "outputs": [],
   "source": [
    "merged = L5.merge(L8)"
   ]
  },
  {
   "cell_type": "code",
   "execution_count": 39,
   "id": "f3deeb94-1834-4bed-9cfa-915d927c3a4a",
   "metadata": {},
   "outputs": [
    {
     "data": {
      "application/vnd.jupyter.widget-view+json": {
       "model_id": "f95afd6a6b15437cacdcd594e5684a39",
       "version_major": 2,
       "version_minor": 0
      },
      "text/plain": [
       "Map(bottom=6244248.0, center=[41.745000000000005, -111.79600000000002], controls=(WidgetControl(options=['posi…"
      ]
     },
     "metadata": {},
     "output_type": "display_data"
    }
   ],
   "source": [
    "collection = merged.select(\"NDVI\").filter(ee.Filter.date('1985-07-01', '2022-07-01')).sort('system:time_start')\n",
    "\n",
    "vis_params = {\n",
    "  'min': 0.0,\n",
    "  'max': 1.0,\n",
    "  'palette': [#'#d73027', '#f46d43', '#fdae61', '#fee08b', '#d9ef8b', '#a6d96a', '#66bd63', '#1a9850'\n",
    "    'FFFFFF', 'CE7E45', 'DF923D', 'F1B555', 'FCD163', '99B718', '74A901',\n",
    "    '66A000', '529400', '3E8601', '207401', '056201', '004C00', '023B01',\n",
    "    '012E01', '011D01', '011301'\n",
    "  ],\n",
    "}\n",
    "\n",
    "first_image = collection.first()\n",
    "\n",
    "Map.addLayer(first_image, vis_params, \"First image\")\n",
    "# Map.setCenter(-7.03125, 31.0529339857, 2)\n",
    "Map\n"
   ]
  },
  {
   "cell_type": "code",
   "execution_count": 40,
   "id": "ce2a19c0-6940-4f56-b752-7ae520b63e0a",
   "metadata": {},
   "outputs": [
    {
     "data": {
      "application/vnd.jupyter.widget-view+json": {
       "model_id": "f95afd6a6b15437cacdcd594e5684a39",
       "version_major": 2,
       "version_minor": 0
      },
      "text/plain": [
       "Map(bottom=6244248.0, center=[41.745000000000005, -111.79600000000002], controls=(WidgetControl(options=['posi…"
      ]
     },
     "metadata": {},
     "output_type": "display_data"
    }
   ],
   "source": [
    "labels = collection.aggregate_array(\"system:index\").getInfo()\n",
    "Map.add_time_slider(collection, vis_params, labels=labels, time_interval=1)\n",
    "Map"
   ]
  },
  {
   "cell_type": "markdown",
   "id": "312c2cd0-4e51-4dc1-bb85-a6c30f3070f1",
   "metadata": {},
   "source": [
    "### Get Timeseries and Arrange Data"
   ]
  },
  {
   "cell_type": "code",
   "execution_count": 41,
   "id": "c3a80dce-a74c-420d-ab18-06d6ec11b28f",
   "metadata": {},
   "outputs": [],
   "source": [
    "ts = merged.getTimeSeriesByRegions(collection = stations,\n",
    "                               bands = ['NDVI'],\n",
    "                               reducer = [ee.Reducer.mean()], #ee.Reducer.median()\n",
    "                               scale = 30)"
   ]
  },
  {
   "cell_type": "code",
   "execution_count": 42,
   "id": "3461baba-ae31-4e2d-a2ce-9a6cd609c569",
   "metadata": {},
   "outputs": [],
   "source": [
    "tsPandas = geemap.ee_to_pandas(ts)"
   ]
  },
  {
   "cell_type": "code",
   "execution_count": 43,
   "id": "61002ae2-6fcd-447b-b254-fafbd85296e8",
   "metadata": {},
   "outputs": [
    {
     "data": {
      "text/html": [
       "<div>\n",
       "<style scoped>\n",
       "    .dataframe tbody tr th:only-of-type {\n",
       "        vertical-align: middle;\n",
       "    }\n",
       "\n",
       "    .dataframe tbody tr th {\n",
       "        vertical-align: top;\n",
       "    }\n",
       "\n",
       "    .dataframe thead th {\n",
       "        text-align: right;\n",
       "    }\n",
       "</style>\n",
       "<table border=\"1\" class=\"dataframe\">\n",
       "  <thead>\n",
       "    <tr style=\"text-align: right;\">\n",
       "      <th></th>\n",
       "      <th>date</th>\n",
       "      <th>station</th>\n",
       "      <th>reducer</th>\n",
       "      <th>NDVI</th>\n",
       "    </tr>\n",
       "  </thead>\n",
       "  <tbody>\n",
       "    <tr>\n",
       "      <th>0</th>\n",
       "      <td>1984-04-06T17:34:57</td>\n",
       "      <td>0</td>\n",
       "      <td>mean</td>\n",
       "      <td>0.084326</td>\n",
       "    </tr>\n",
       "    <tr>\n",
       "      <th>1</th>\n",
       "      <td>1984-04-06T17:34:57</td>\n",
       "      <td>1</td>\n",
       "      <td>mean</td>\n",
       "      <td>0.081332</td>\n",
       "    </tr>\n",
       "    <tr>\n",
       "      <th>2</th>\n",
       "      <td>1984-05-08T17:35:11</td>\n",
       "      <td>0</td>\n",
       "      <td>mean</td>\n",
       "      <td>0.304774</td>\n",
       "    </tr>\n",
       "    <tr>\n",
       "      <th>3</th>\n",
       "      <td>1984-05-08T17:35:11</td>\n",
       "      <td>1</td>\n",
       "      <td>mean</td>\n",
       "      <td>0.432883</td>\n",
       "    </tr>\n",
       "    <tr>\n",
       "      <th>4</th>\n",
       "      <td>1984-06-09T17:36:00</td>\n",
       "      <td>0</td>\n",
       "      <td>mean</td>\n",
       "      <td>0.195255</td>\n",
       "    </tr>\n",
       "    <tr>\n",
       "      <th>...</th>\n",
       "      <td>...</td>\n",
       "      <td>...</td>\n",
       "      <td>...</td>\n",
       "      <td>...</td>\n",
       "    </tr>\n",
       "    <tr>\n",
       "      <th>1331</th>\n",
       "      <td>2021-11-22T18:08:08</td>\n",
       "      <td>1</td>\n",
       "      <td>mean</td>\n",
       "      <td>0.514538</td>\n",
       "    </tr>\n",
       "    <tr>\n",
       "      <th>1332</th>\n",
       "      <td>2021-12-08T18:08:09</td>\n",
       "      <td>0</td>\n",
       "      <td>mean</td>\n",
       "      <td>NaN</td>\n",
       "    </tr>\n",
       "    <tr>\n",
       "      <th>1333</th>\n",
       "      <td>2021-12-08T18:08:09</td>\n",
       "      <td>1</td>\n",
       "      <td>mean</td>\n",
       "      <td>NaN</td>\n",
       "    </tr>\n",
       "    <tr>\n",
       "      <th>1334</th>\n",
       "      <td>2021-12-24T18:08:05</td>\n",
       "      <td>0</td>\n",
       "      <td>mean</td>\n",
       "      <td>NaN</td>\n",
       "    </tr>\n",
       "    <tr>\n",
       "      <th>1335</th>\n",
       "      <td>2021-12-24T18:08:05</td>\n",
       "      <td>1</td>\n",
       "      <td>mean</td>\n",
       "      <td>NaN</td>\n",
       "    </tr>\n",
       "  </tbody>\n",
       "</table>\n",
       "<p>1336 rows × 4 columns</p>\n",
       "</div>"
      ],
      "text/plain": [
       "                     date  station reducer      NDVI\n",
       "0     1984-04-06T17:34:57        0    mean  0.084326\n",
       "1     1984-04-06T17:34:57        1    mean  0.081332\n",
       "2     1984-05-08T17:35:11        0    mean  0.304774\n",
       "3     1984-05-08T17:35:11        1    mean  0.432883\n",
       "4     1984-06-09T17:36:00        0    mean  0.195255\n",
       "...                   ...      ...     ...       ...\n",
       "1331  2021-11-22T18:08:08        1    mean  0.514538\n",
       "1332  2021-12-08T18:08:09        0    mean       NaN\n",
       "1333  2021-12-08T18:08:09        1    mean       NaN\n",
       "1334  2021-12-24T18:08:05        0    mean       NaN\n",
       "1335  2021-12-24T18:08:05        1    mean       NaN\n",
       "\n",
       "[1336 rows x 4 columns]"
      ]
     },
     "execution_count": 43,
     "metadata": {},
     "output_type": "execute_result"
    }
   ],
   "source": [
    "tsPandas"
   ]
  },
  {
   "cell_type": "code",
   "execution_count": 44,
   "id": "b79457ae-cc8c-4ed7-bd09-835b66588cc9",
   "metadata": {
    "tags": []
   },
   "outputs": [],
   "source": [
    "tsPandas[tsPandas == -9999] = np.nan"
   ]
  },
  {
   "cell_type": "code",
   "execution_count": 45,
   "id": "5d343a80-e90c-4047-b212-ca5f975738b4",
   "metadata": {},
   "outputs": [],
   "source": [
    "tsPandas['date'] = pd.to_datetime(tsPandas['date'],infer_datetime_format = True)\n",
    "#tsPandas.index = pd.to_datetime(tsPandas.index, format='%Y-%m-%d')"
   ]
  },
  {
   "cell_type": "code",
   "execution_count": 46,
   "id": "50c42cb2-8319-43dd-bbc3-5fd8c4a64b72",
   "metadata": {},
   "outputs": [
    {
     "data": {
      "text/html": [
       "<div>\n",
       "<style scoped>\n",
       "    .dataframe tbody tr th:only-of-type {\n",
       "        vertical-align: middle;\n",
       "    }\n",
       "\n",
       "    .dataframe tbody tr th {\n",
       "        vertical-align: top;\n",
       "    }\n",
       "\n",
       "    .dataframe thead th {\n",
       "        text-align: right;\n",
       "    }\n",
       "</style>\n",
       "<table border=\"1\" class=\"dataframe\">\n",
       "  <thead>\n",
       "    <tr style=\"text-align: right;\">\n",
       "      <th></th>\n",
       "      <th>date</th>\n",
       "      <th>station</th>\n",
       "      <th>reducer</th>\n",
       "      <th>NDVI</th>\n",
       "    </tr>\n",
       "  </thead>\n",
       "  <tbody>\n",
       "    <tr>\n",
       "      <th>0</th>\n",
       "      <td>1984-04-06 17:34:57</td>\n",
       "      <td>0</td>\n",
       "      <td>mean</td>\n",
       "      <td>0.084326</td>\n",
       "    </tr>\n",
       "    <tr>\n",
       "      <th>1</th>\n",
       "      <td>1984-04-06 17:34:57</td>\n",
       "      <td>1</td>\n",
       "      <td>mean</td>\n",
       "      <td>0.081332</td>\n",
       "    </tr>\n",
       "    <tr>\n",
       "      <th>2</th>\n",
       "      <td>1984-05-08 17:35:11</td>\n",
       "      <td>0</td>\n",
       "      <td>mean</td>\n",
       "      <td>0.304774</td>\n",
       "    </tr>\n",
       "    <tr>\n",
       "      <th>3</th>\n",
       "      <td>1984-05-08 17:35:11</td>\n",
       "      <td>1</td>\n",
       "      <td>mean</td>\n",
       "      <td>0.432883</td>\n",
       "    </tr>\n",
       "    <tr>\n",
       "      <th>4</th>\n",
       "      <td>1984-06-09 17:36:00</td>\n",
       "      <td>0</td>\n",
       "      <td>mean</td>\n",
       "      <td>0.195255</td>\n",
       "    </tr>\n",
       "    <tr>\n",
       "      <th>...</th>\n",
       "      <td>...</td>\n",
       "      <td>...</td>\n",
       "      <td>...</td>\n",
       "      <td>...</td>\n",
       "    </tr>\n",
       "    <tr>\n",
       "      <th>1331</th>\n",
       "      <td>2021-11-22 18:08:08</td>\n",
       "      <td>1</td>\n",
       "      <td>mean</td>\n",
       "      <td>0.514538</td>\n",
       "    </tr>\n",
       "    <tr>\n",
       "      <th>1332</th>\n",
       "      <td>2021-12-08 18:08:09</td>\n",
       "      <td>0</td>\n",
       "      <td>mean</td>\n",
       "      <td>NaN</td>\n",
       "    </tr>\n",
       "    <tr>\n",
       "      <th>1333</th>\n",
       "      <td>2021-12-08 18:08:09</td>\n",
       "      <td>1</td>\n",
       "      <td>mean</td>\n",
       "      <td>NaN</td>\n",
       "    </tr>\n",
       "    <tr>\n",
       "      <th>1334</th>\n",
       "      <td>2021-12-24 18:08:05</td>\n",
       "      <td>0</td>\n",
       "      <td>mean</td>\n",
       "      <td>NaN</td>\n",
       "    </tr>\n",
       "    <tr>\n",
       "      <th>1335</th>\n",
       "      <td>2021-12-24 18:08:05</td>\n",
       "      <td>1</td>\n",
       "      <td>mean</td>\n",
       "      <td>NaN</td>\n",
       "    </tr>\n",
       "  </tbody>\n",
       "</table>\n",
       "<p>1336 rows × 4 columns</p>\n",
       "</div>"
      ],
      "text/plain": [
       "                    date  station reducer      NDVI\n",
       "0    1984-04-06 17:34:57        0    mean  0.084326\n",
       "1    1984-04-06 17:34:57        1    mean  0.081332\n",
       "2    1984-05-08 17:35:11        0    mean  0.304774\n",
       "3    1984-05-08 17:35:11        1    mean  0.432883\n",
       "4    1984-06-09 17:36:00        0    mean  0.195255\n",
       "...                  ...      ...     ...       ...\n",
       "1331 2021-11-22 18:08:08        1    mean  0.514538\n",
       "1332 2021-12-08 18:08:09        0    mean       NaN\n",
       "1333 2021-12-08 18:08:09        1    mean       NaN\n",
       "1334 2021-12-24 18:08:05        0    mean       NaN\n",
       "1335 2021-12-24 18:08:05        1    mean       NaN\n",
       "\n",
       "[1336 rows x 4 columns]"
      ]
     },
     "execution_count": 46,
     "metadata": {},
     "output_type": "execute_result"
    }
   ],
   "source": [
    "tsPandas"
   ]
  },
  {
   "cell_type": "code",
   "execution_count": 47,
   "id": "70e69301-9759-40c3-a118-5b4099a47ace",
   "metadata": {},
   "outputs": [],
   "source": [
    "tsPandas_pivoted = tsPandas.pivot_table(index='date', columns= 'station', values='NDVI').reset_index()\n"
   ]
  },
  {
   "cell_type": "code",
   "execution_count": 48,
   "id": "6233a095-f602-469a-ae7c-2ae6c9199bff",
   "metadata": {},
   "outputs": [],
   "source": [
    "tsPandas_pivoted.columns.name = None"
   ]
  },
  {
   "cell_type": "code",
   "execution_count": 49,
   "id": "931e70fb-f453-4547-adb9-a94a02412a39",
   "metadata": {},
   "outputs": [
    {
     "data": {
      "text/html": [
       "<div>\n",
       "<style scoped>\n",
       "    .dataframe tbody tr th:only-of-type {\n",
       "        vertical-align: middle;\n",
       "    }\n",
       "\n",
       "    .dataframe tbody tr th {\n",
       "        vertical-align: top;\n",
       "    }\n",
       "\n",
       "    .dataframe thead th {\n",
       "        text-align: right;\n",
       "    }\n",
       "</style>\n",
       "<table border=\"1\" class=\"dataframe\">\n",
       "  <thead>\n",
       "    <tr style=\"text-align: right;\">\n",
       "      <th></th>\n",
       "      <th>date</th>\n",
       "      <th>0</th>\n",
       "      <th>1</th>\n",
       "    </tr>\n",
       "  </thead>\n",
       "  <tbody>\n",
       "    <tr>\n",
       "      <th>0</th>\n",
       "      <td>1984-04-06 17:34:57</td>\n",
       "      <td>0.084326</td>\n",
       "      <td>0.081332</td>\n",
       "    </tr>\n",
       "    <tr>\n",
       "      <th>1</th>\n",
       "      <td>1984-05-08 17:35:11</td>\n",
       "      <td>0.304774</td>\n",
       "      <td>0.432883</td>\n",
       "    </tr>\n",
       "    <tr>\n",
       "      <th>2</th>\n",
       "      <td>1984-06-09 17:36:00</td>\n",
       "      <td>0.195255</td>\n",
       "      <td>0.053844</td>\n",
       "    </tr>\n",
       "    <tr>\n",
       "      <th>3</th>\n",
       "      <td>1984-06-25 17:36:14</td>\n",
       "      <td>0.367611</td>\n",
       "      <td>0.534300</td>\n",
       "    </tr>\n",
       "    <tr>\n",
       "      <th>4</th>\n",
       "      <td>1984-12-02 17:37:44</td>\n",
       "      <td>0.037412</td>\n",
       "      <td>-0.062306</td>\n",
       "    </tr>\n",
       "    <tr>\n",
       "      <th>...</th>\n",
       "      <td>...</td>\n",
       "      <td>...</td>\n",
       "      <td>...</td>\n",
       "    </tr>\n",
       "    <tr>\n",
       "      <th>454</th>\n",
       "      <td>2021-07-17 18:07:43</td>\n",
       "      <td>0.353555</td>\n",
       "      <td>0.482666</td>\n",
       "    </tr>\n",
       "    <tr>\n",
       "      <th>455</th>\n",
       "      <td>2021-09-03 18:08:02</td>\n",
       "      <td>0.403683</td>\n",
       "      <td>0.548711</td>\n",
       "    </tr>\n",
       "    <tr>\n",
       "      <th>456</th>\n",
       "      <td>2021-10-05 18:08:11</td>\n",
       "      <td>0.350219</td>\n",
       "      <td>0.511189</td>\n",
       "    </tr>\n",
       "    <tr>\n",
       "      <th>457</th>\n",
       "      <td>2021-10-21 18:08:14</td>\n",
       "      <td>0.361043</td>\n",
       "      <td>0.536456</td>\n",
       "    </tr>\n",
       "    <tr>\n",
       "      <th>458</th>\n",
       "      <td>2021-11-22 18:08:08</td>\n",
       "      <td>0.320516</td>\n",
       "      <td>0.514538</td>\n",
       "    </tr>\n",
       "  </tbody>\n",
       "</table>\n",
       "<p>459 rows × 3 columns</p>\n",
       "</div>"
      ],
      "text/plain": [
       "                   date         0         1\n",
       "0   1984-04-06 17:34:57  0.084326  0.081332\n",
       "1   1984-05-08 17:35:11  0.304774  0.432883\n",
       "2   1984-06-09 17:36:00  0.195255  0.053844\n",
       "3   1984-06-25 17:36:14  0.367611  0.534300\n",
       "4   1984-12-02 17:37:44  0.037412 -0.062306\n",
       "..                  ...       ...       ...\n",
       "454 2021-07-17 18:07:43  0.353555  0.482666\n",
       "455 2021-09-03 18:08:02  0.403683  0.548711\n",
       "456 2021-10-05 18:08:11  0.350219  0.511189\n",
       "457 2021-10-21 18:08:14  0.361043  0.536456\n",
       "458 2021-11-22 18:08:08  0.320516  0.514538\n",
       "\n",
       "[459 rows x 3 columns]"
      ]
     },
     "execution_count": 49,
     "metadata": {},
     "output_type": "execute_result"
    }
   ],
   "source": [
    "tsPandas_pivoted"
   ]
  },
  {
   "cell_type": "code",
   "execution_count": 50,
   "id": "178197cb-8d20-4aec-91f2-3706b91b9249",
   "metadata": {
    "tags": []
   },
   "outputs": [],
   "source": [
    "tsPandas_pivoted.columns = ['date', 'station_0', 'station_1']"
   ]
  },
  {
   "cell_type": "code",
   "execution_count": 51,
   "id": "d124500b-f59a-43ce-9899-3e6d6bfbd02e",
   "metadata": {},
   "outputs": [],
   "source": [
    "tsPandas_pivoted['Difference'] = tsPandas_pivoted['station_1'] - tsPandas_pivoted['station_0']"
   ]
  },
  {
   "cell_type": "code",
   "execution_count": 52,
   "id": "52e8aecb-a65f-4a86-bd0d-203d11f77830",
   "metadata": {},
   "outputs": [
    {
     "data": {
      "text/html": [
       "<div>\n",
       "<style scoped>\n",
       "    .dataframe tbody tr th:only-of-type {\n",
       "        vertical-align: middle;\n",
       "    }\n",
       "\n",
       "    .dataframe tbody tr th {\n",
       "        vertical-align: top;\n",
       "    }\n",
       "\n",
       "    .dataframe thead th {\n",
       "        text-align: right;\n",
       "    }\n",
       "</style>\n",
       "<table border=\"1\" class=\"dataframe\">\n",
       "  <thead>\n",
       "    <tr style=\"text-align: right;\">\n",
       "      <th></th>\n",
       "      <th>date</th>\n",
       "      <th>station_0</th>\n",
       "      <th>station_1</th>\n",
       "      <th>Difference</th>\n",
       "    </tr>\n",
       "  </thead>\n",
       "  <tbody>\n",
       "    <tr>\n",
       "      <th>0</th>\n",
       "      <td>1984-04-06 17:34:57</td>\n",
       "      <td>0.084326</td>\n",
       "      <td>0.081332</td>\n",
       "      <td>-0.002993</td>\n",
       "    </tr>\n",
       "    <tr>\n",
       "      <th>1</th>\n",
       "      <td>1984-05-08 17:35:11</td>\n",
       "      <td>0.304774</td>\n",
       "      <td>0.432883</td>\n",
       "      <td>0.128109</td>\n",
       "    </tr>\n",
       "    <tr>\n",
       "      <th>2</th>\n",
       "      <td>1984-06-09 17:36:00</td>\n",
       "      <td>0.195255</td>\n",
       "      <td>0.053844</td>\n",
       "      <td>-0.141411</td>\n",
       "    </tr>\n",
       "    <tr>\n",
       "      <th>3</th>\n",
       "      <td>1984-06-25 17:36:14</td>\n",
       "      <td>0.367611</td>\n",
       "      <td>0.534300</td>\n",
       "      <td>0.166689</td>\n",
       "    </tr>\n",
       "    <tr>\n",
       "      <th>4</th>\n",
       "      <td>1984-12-02 17:37:44</td>\n",
       "      <td>0.037412</td>\n",
       "      <td>-0.062306</td>\n",
       "      <td>-0.099718</td>\n",
       "    </tr>\n",
       "    <tr>\n",
       "      <th>...</th>\n",
       "      <td>...</td>\n",
       "      <td>...</td>\n",
       "      <td>...</td>\n",
       "      <td>...</td>\n",
       "    </tr>\n",
       "    <tr>\n",
       "      <th>454</th>\n",
       "      <td>2021-07-17 18:07:43</td>\n",
       "      <td>0.353555</td>\n",
       "      <td>0.482666</td>\n",
       "      <td>0.129111</td>\n",
       "    </tr>\n",
       "    <tr>\n",
       "      <th>455</th>\n",
       "      <td>2021-09-03 18:08:02</td>\n",
       "      <td>0.403683</td>\n",
       "      <td>0.548711</td>\n",
       "      <td>0.145028</td>\n",
       "    </tr>\n",
       "    <tr>\n",
       "      <th>456</th>\n",
       "      <td>2021-10-05 18:08:11</td>\n",
       "      <td>0.350219</td>\n",
       "      <td>0.511189</td>\n",
       "      <td>0.160970</td>\n",
       "    </tr>\n",
       "    <tr>\n",
       "      <th>457</th>\n",
       "      <td>2021-10-21 18:08:14</td>\n",
       "      <td>0.361043</td>\n",
       "      <td>0.536456</td>\n",
       "      <td>0.175413</td>\n",
       "    </tr>\n",
       "    <tr>\n",
       "      <th>458</th>\n",
       "      <td>2021-11-22 18:08:08</td>\n",
       "      <td>0.320516</td>\n",
       "      <td>0.514538</td>\n",
       "      <td>0.194023</td>\n",
       "    </tr>\n",
       "  </tbody>\n",
       "</table>\n",
       "<p>459 rows × 4 columns</p>\n",
       "</div>"
      ],
      "text/plain": [
       "                   date  station_0  station_1  Difference\n",
       "0   1984-04-06 17:34:57   0.084326   0.081332   -0.002993\n",
       "1   1984-05-08 17:35:11   0.304774   0.432883    0.128109\n",
       "2   1984-06-09 17:36:00   0.195255   0.053844   -0.141411\n",
       "3   1984-06-25 17:36:14   0.367611   0.534300    0.166689\n",
       "4   1984-12-02 17:37:44   0.037412  -0.062306   -0.099718\n",
       "..                  ...        ...        ...         ...\n",
       "454 2021-07-17 18:07:43   0.353555   0.482666    0.129111\n",
       "455 2021-09-03 18:08:02   0.403683   0.548711    0.145028\n",
       "456 2021-10-05 18:08:11   0.350219   0.511189    0.160970\n",
       "457 2021-10-21 18:08:14   0.361043   0.536456    0.175413\n",
       "458 2021-11-22 18:08:08   0.320516   0.514538    0.194023\n",
       "\n",
       "[459 rows x 4 columns]"
      ]
     },
     "execution_count": 52,
     "metadata": {},
     "output_type": "execute_result"
    }
   ],
   "source": [
    "tsPandas_pivoted"
   ]
  },
  {
   "cell_type": "code",
   "execution_count": 53,
   "id": "9b3f64ab-41fa-44b8-b3ab-ad3a69f0f1f7",
   "metadata": {},
   "outputs": [],
   "source": [
    "tsPandas_pivoted[tsPandas_pivoted.Difference >= 0.5] = np.nan"
   ]
  },
  {
   "cell_type": "code",
   "execution_count": 54,
   "id": "e718298e-5295-45e5-b7e8-d8e56f17de80",
   "metadata": {},
   "outputs": [],
   "source": [
    "tsPandas_pivoted[tsPandas_pivoted.Difference <= -0.5] = np.nan"
   ]
  },
  {
   "cell_type": "markdown",
   "id": "a6739895-25d2-4f83-b9d9-cd06dd0298ef",
   "metadata": {},
   "source": [
    "### Plot Difference Full Series"
   ]
  },
  {
   "cell_type": "code",
   "execution_count": 55,
   "id": "450875ae-e03a-4bf3-b018-d6d87bd47098",
   "metadata": {
    "tags": []
   },
   "outputs": [
    {
     "data": {
      "image/png": "[encoded data removed]",
      "text/plain": [
       "<Figure size 432x288 with 1 Axes>"
      ]
     },
     "metadata": {
      "needs_background": "light"
     },
     "output_type": "display_data"
    }
   ],
   "source": [
    "sns.lineplot(data=tsPandas_pivoted, x='date', y='Difference')\n",
    "plt.xlabel('Date', fontsize = 15)\n",
    "plt.ylabel('NDVI Difference', fontsize = 15)\n",
    "plt.title('NDVI Difference (Golf-USU)', fontsize = 18)\n",
    "\n",
    "plt.axhline(y=0, color='black', linestyle='--')\n",
    "\n",
    "plt.savefig('FullNDVI_plot.png', dpi=300, bbox_inches='tight')\n"
   ]
  },
  {
   "cell_type": "markdown",
   "id": "27c117c6-4b64-46c6-82d2-ec42af4bf76a",
   "metadata": {
    "tags": []
   },
   "source": [
    "## Filter only Summer months"
   ]
  },
  {
   "cell_type": "code",
   "execution_count": 56,
   "id": "880a21d0-69d4-4cd4-9832-6183b4551978",
   "metadata": {},
   "outputs": [
    {
     "name": "stdout",
     "output_type": "stream",
     "text": [
      "                   date  station_0  station_1  Difference\n",
      "0   1984-04-06 17:34:57   0.084326   0.081332   -0.002993\n",
      "1   1984-05-08 17:35:11   0.304774   0.432883    0.128109\n",
      "2   1984-06-09 17:36:00   0.195255   0.053844   -0.141411\n",
      "3   1984-06-25 17:36:14   0.367611   0.534300    0.166689\n",
      "4   1984-12-02 17:37:44   0.037412  -0.062306   -0.099718\n",
      "..                  ...        ...        ...         ...\n",
      "454 2021-07-17 18:07:43   0.353555   0.482666    0.129111\n",
      "455 2021-09-03 18:08:02   0.403683   0.548711    0.145028\n",
      "456 2021-10-05 18:08:11   0.350219   0.511189    0.160970\n",
      "457 2021-10-21 18:08:14   0.361043   0.536456    0.175413\n",
      "458 2021-11-22 18:08:08   0.320516   0.514538    0.194023\n",
      "\n",
      "[459 rows x 4 columns]\n"
     ]
    }
   ],
   "source": [
    "print(tsPandas_pivoted)"
   ]
  },
  {
   "cell_type": "code",
   "execution_count": 57,
   "id": "1422c4cf-7400-4301-a9be-c031eb37b6ad",
   "metadata": {},
   "outputs": [
    {
     "name": "stdout",
     "output_type": "stream",
     "text": [
      "                     station_0  station_1  Difference\n",
      "date                                                 \n",
      "1984-04-06 17:34:57   0.084326   0.081332   -0.002993\n",
      "1984-05-08 17:35:11   0.304774   0.432883    0.128109\n",
      "1984-06-09 17:36:00   0.195255   0.053844   -0.141411\n",
      "1984-06-25 17:36:14   0.367611   0.534300    0.166689\n",
      "1984-12-02 17:37:44   0.037412  -0.062306   -0.099718\n",
      "...                        ...        ...         ...\n",
      "2021-07-17 18:07:43   0.353555   0.482666    0.129111\n",
      "2021-09-03 18:08:02   0.403683   0.548711    0.145028\n",
      "2021-10-05 18:08:11   0.350219   0.511189    0.160970\n",
      "2021-10-21 18:08:14   0.361043   0.536456    0.175413\n",
      "2021-11-22 18:08:08   0.320516   0.514538    0.194023\n",
      "\n",
      "[459 rows x 3 columns]\n"
     ]
    }
   ],
   "source": [
    "tsPandas_pivoted = tsPandas_pivoted.set_index('date')\n",
    "\n",
    "print(tsPandas_pivoted)"
   ]
  },
  {
   "cell_type": "code",
   "execution_count": 58,
   "id": "1e0f67ef-3809-427b-96a5-368d1f0517f6",
   "metadata": {},
   "outputs": [],
   "source": [
    "#Convert index to DatetimeIndex object\n",
    "tsPandas_pivoted.index = pd.to_datetime(tsPandas_pivoted.index, format='%Y-%m-%d')\n",
    "\n",
    "# Filter data for June-October 1985-2022\n",
    "filtered_data = tsPandas_pivoted.loc[\n",
    "    (tsPandas_pivoted.index.month >= 5) & (tsPandas_pivoted.index.month <= 10) &\n",
    "    (tsPandas_pivoted.index.year >= 1985) & (tsPandas_pivoted.index.year <= 2022)\n",
    "]"
   ]
  },
  {
   "cell_type": "code",
   "execution_count": 59,
   "id": "b1a7d0c8-fda5-49f2-a3f2-0a4471b4ec29",
   "metadata": {},
   "outputs": [
    {
     "name": "stdout",
     "output_type": "stream",
     "text": [
      "                     station_0  station_1  Difference\n",
      "date                                                 \n",
      "1985-06-12 17:37:54   0.338665   0.482379    0.143714\n",
      "1985-07-14 17:37:44   0.350633   0.414933    0.064300\n",
      "1985-08-15 17:37:27   0.347705   0.452970    0.105265\n",
      "1985-08-31 17:37:16   0.344685   0.440350    0.095665\n",
      "1985-09-16 17:37:03   0.350909   0.464560    0.113652\n",
      "...                        ...        ...         ...\n",
      "2021-06-15 18:07:38   0.361722   0.531743    0.170021\n",
      "2021-07-17 18:07:43   0.353555   0.482666    0.129111\n",
      "2021-09-03 18:08:02   0.403683   0.548711    0.145028\n",
      "2021-10-05 18:08:11   0.350219   0.511189    0.160970\n",
      "2021-10-21 18:08:14   0.361043   0.536456    0.175413\n",
      "\n",
      "[305 rows x 3 columns]\n"
     ]
    }
   ],
   "source": [
    "print(filtered_data)"
   ]
  },
  {
   "cell_type": "code",
   "execution_count": 60,
   "id": "118b9c41-45ab-49e2-844a-29eef3c491a7",
   "metadata": {},
   "outputs": [
    {
     "data": {
      "text/plain": [
       "<matplotlib.lines.Line2D at 0x7fd4a41c1f40>"
      ]
     },
     "execution_count": 60,
     "metadata": {},
     "output_type": "execute_result"
    },
    {
     "data": {
      "image/png": "[encoded data removed]",
      "text/plain": [
       "<Figure size 432x288 with 1 Axes>"
      ]
     },
     "metadata": {
      "needs_background": "light"
     },
     "output_type": "display_data"
    }
   ],
   "source": [
    "sns.scatterplot(data=filtered_data, x=filtered_data.index, y='Difference')\n",
    "plt.xlabel('Date', fontsize = 15)\n",
    "plt.ylabel('NDVI Difference', fontsize = 15)\n",
    "plt.title('NDVI Difference (Golf-USU)', fontsize = 18)\n",
    "\n",
    "plt.axhline(y=0, color='black', linestyle='--')\n",
    "\n",
    "\n",
    "#plt.savefig('summerNDVI_plot.png', dpi=300, bbox_inches='tight')"
   ]
  },
  {
   "cell_type": "code",
   "execution_count": 61,
   "id": "745a9bfa-9c48-4e3a-a5d2-7ae7b3a99a30",
   "metadata": {},
   "outputs": [
    {
     "data": {
      "text/plain": [
       "<matplotlib.legend.Legend at 0x7fd4a4187f40>"
      ]
     },
     "execution_count": 61,
     "metadata": {},
     "output_type": "execute_result"
    },
    {
     "data": {
      "image/png": "[encoded data removed]",
      "text/plain": [
       "<Figure size 432x288 with 1 Axes>"
      ]
     },
     "metadata": {
      "needs_background": "light"
     },
     "output_type": "display_data"
    }
   ],
   "source": [
    "sns.scatterplot(data=filtered_data, x=filtered_data.index, y='station_0', label = 'COOP')\n",
    "plt.xlabel('Year', fontsize=15)\n",
    "plt.ylabel('NDVI', fontsize=15)\n",
    "plt.title('Summer NDVI ', fontsize=18)\n",
    "\n",
    "sns.scatterplot(data=filtered_data, x=filtered_data.index, y='station_1', label = 'Golf')\n",
    "\n",
    "plt.legend()\n",
    "\n",
    "#plt.savefig('summerNDVI_scatter.png', dpi=300, bbox_inches='tight')"
   ]
  },
  {
   "cell_type": "code",
   "execution_count": 62,
   "id": "cc19d43f-14b1-469f-800e-9053666f770c",
   "metadata": {},
   "outputs": [],
   "source": [
    "filtered_data.to_csv('summer_ndvi.csv', index=True)"
   ]
  },
  {
   "cell_type": "markdown",
   "id": "5a63fe6d-adea-4d23-915d-6047531f0db4",
   "metadata": {},
   "source": [
    "### Get Annual Means from Summer Data"
   ]
  },
  {
   "cell_type": "code",
   "execution_count": 63,
   "id": "9153e9ea-9ff9-4917-a225-57f6e8efe672",
   "metadata": {},
   "outputs": [],
   "source": [
    "mean_diff = filtered_data.groupby(filtered_data.index.year)['Difference'].mean()"
   ]
  },
  {
   "cell_type": "code",
   "execution_count": 64,
   "id": "f62b6f72-0bca-4a53-97f2-5f0fc0c68837",
   "metadata": {},
   "outputs": [],
   "source": [
    "mean_station_0 = filtered_data.groupby(filtered_data.index.year)['station_0'].mean()"
   ]
  },
  {
   "cell_type": "code",
   "execution_count": 65,
   "id": "d17f08f1-e6c0-42fe-9c29-da4b99023188",
   "metadata": {},
   "outputs": [],
   "source": [
    "mean_station_1= filtered_data.groupby(filtered_data.index.year)['station_1'].mean()"
   ]
  },
  {
   "cell_type": "code",
   "execution_count": 66,
   "id": "717ee361-e864-4b39-8870-0590d6e4d1b7",
   "metadata": {},
   "outputs": [
    {
     "data": {
      "image/png": "[encoded data removed]",
      "text/plain": [
       "<Figure size 720x432 with 1 Axes>"
      ]
     },
     "metadata": {
      "needs_background": "light"
     },
     "output_type": "display_data"
    }
   ],
   "source": [
    "mean_diff.plot(kind='line', figsize=(10, 6), marker = 'o')\n",
    "plt.xlabel('Year', fontsize=15)\n",
    "plt.ylabel('Mean Difference', fontsize=15)\n",
    "plt.title('Mean NDVI Difference', fontsize=18)\n",
    "\n",
    "plt.savefig('NDVI_meandiff.png', dpi=300, bbox_inches='tight')"
   ]
  },
  {
   "cell_type": "code",
   "execution_count": 67,
   "id": "305b1598-b4bd-4c18-8e06-647d7b0cb1e4",
   "metadata": {},
   "outputs": [
    {
     "name": "stdout",
     "output_type": "stream",
     "text": [
      "date\n",
      "1985    0.104897\n",
      "1986    0.131691\n",
      "1987    0.155668\n",
      "1988    0.117373\n",
      "1989    0.131455\n",
      "1990    0.170649\n",
      "1991    0.178983\n",
      "1992    0.099618\n",
      "1993    0.191139\n",
      "1994    0.126693\n",
      "1995    0.170495\n",
      "1996    0.184498\n",
      "1997    0.191975\n",
      "1998    0.203567\n",
      "1999    0.176583\n",
      "2000    0.163121\n",
      "2001    0.161680\n",
      "2002    0.167486\n",
      "2003    0.163738\n",
      "2004    0.179012\n",
      "2005    0.212084\n",
      "2006    0.175388\n",
      "2007    0.180377\n",
      "2008    0.175303\n",
      "2009    0.185950\n",
      "2010    0.176604\n",
      "2011    0.187100\n",
      "2013    0.170962\n",
      "2014    0.180760\n",
      "2015    0.178397\n",
      "2016    0.172005\n",
      "2017    0.195453\n",
      "2018    0.154890\n",
      "2019    0.175398\n",
      "2020    0.173306\n",
      "2021    0.168576\n",
      "Name: Difference, dtype: float64\n"
     ]
    }
   ],
   "source": [
    "print(mean_diff)"
   ]
  },
  {
   "cell_type": "code",
   "execution_count": 68,
   "id": "cb539690-704a-425e-a715-7e3d35136e2a",
   "metadata": {},
   "outputs": [
    {
     "name": "stdout",
     "output_type": "stream",
     "text": [
      "                     station_0  station_1  Difference\n",
      "date                                                 \n",
      "1985-06-12 17:37:54   0.338665   0.482379    0.143714\n",
      "1985-07-14 17:37:44   0.350633   0.414933    0.064300\n",
      "1985-08-15 17:37:27   0.347705   0.452970    0.105265\n",
      "1985-08-31 17:37:16   0.344685   0.440350    0.095665\n",
      "1985-09-16 17:37:03   0.350909   0.464560    0.113652\n",
      "...                        ...        ...         ...\n",
      "2021-06-15 18:07:38   0.361722   0.531743    0.170021\n",
      "2021-07-17 18:07:43   0.353555   0.482666    0.129111\n",
      "2021-09-03 18:08:02   0.403683   0.548711    0.145028\n",
      "2021-10-05 18:08:11   0.350219   0.511189    0.160970\n",
      "2021-10-21 18:08:14   0.361043   0.536456    0.175413\n",
      "\n",
      "[305 rows x 3 columns]\n"
     ]
    }
   ],
   "source": [
    "print(filtered_data)"
   ]
  },
  {
   "cell_type": "markdown",
   "id": "2510924b-c23e-43c6-89bf-3be2685b0427",
   "metadata": {},
   "source": [
    "### Filter Summer Data from 1990 to 1995"
   ]
  },
  {
   "cell_type": "code",
   "execution_count": 69,
   "id": "52c5eb0a-8e0c-4cb0-8587-9711ade66190",
   "metadata": {},
   "outputs": [],
   "source": [
    "annual_data = filtered_data.loc['1990-05-01':'1996-05-01']"
   ]
  },
  {
   "cell_type": "code",
   "execution_count": 70,
   "id": "a943be95-a98d-42ab-b436-b75169d231db",
   "metadata": {},
   "outputs": [
    {
     "name": "stdout",
     "output_type": "stream",
     "text": [
      "                     station_0  station_1  Difference\n",
      "date                                                 \n",
      "1990-05-09 17:28:01   0.296707   0.492669    0.195962\n",
      "1990-06-10 17:27:58   0.256796   0.494465    0.237669\n",
      "1990-06-26 17:27:57   0.332172   0.500917    0.168745\n",
      "1990-08-13 17:27:46   0.318796   0.447591    0.128795\n",
      "1990-09-14 17:27:38   0.324230   0.460974    0.136744\n",
      "1990-09-30 17:27:26   0.329547   0.485528    0.155981\n",
      "1991-05-12 17:30:11        NaN   0.351893         NaN\n",
      "1991-05-28 17:30:27   0.309528   0.524042    0.214514\n",
      "1991-06-13 17:30:33   0.318162   0.536794    0.218631\n",
      "1991-07-15 17:31:05   0.317550   0.503987    0.186437\n",
      "1991-07-31 17:31:16   0.320774   0.495722    0.174948\n",
      "1991-09-01 17:31:32        NaN   0.344613         NaN\n",
      "1991-10-03 17:31:46   0.310655   0.491076    0.180421\n",
      "1991-10-19 17:31:57   0.248097   0.347046    0.098949\n",
      "1992-05-14 17:31:29   0.335107   0.493360    0.158253\n",
      "1992-05-30 17:31:21   0.328028   0.480674    0.152646\n",
      "1992-07-17 17:30:46   0.319483   0.484260    0.164777\n",
      "1992-08-02 17:30:34   0.455944   0.436316   -0.019628\n",
      "1992-08-18 17:30:18   0.307599   0.360395    0.052795\n",
      "1992-09-03 17:30:04   0.304814   0.368410    0.063596\n",
      "1992-09-19 17:29:48   0.308355   0.414622    0.106266\n",
      "1992-10-05 17:29:24   0.291222   0.409460    0.118238\n",
      "1993-05-01 17:30:14   0.275920   0.444424    0.168504\n",
      "1993-05-17 17:30:16   0.312896   0.493159    0.180263\n",
      "1993-06-18 17:30:17   0.322894   0.523768    0.200875\n",
      "1993-07-04 17:30:11   0.328484   0.523344    0.194860\n",
      "1993-07-20 17:30:12   0.322335   0.508706    0.186371\n",
      "1993-08-05 17:30:12   0.343431   0.524609    0.181178\n",
      "1993-08-21 17:30:11   0.283295   0.554823    0.271528\n",
      "1993-09-06 17:30:09   0.327865   0.522851    0.194986\n",
      "1993-09-22 17:30:05   0.316853   0.492519    0.175666\n",
      "1993-10-24 17:29:55   0.258371   0.415534    0.157164\n",
      "1994-05-20 17:27:13   0.326843   0.519690    0.192846\n",
      "1994-07-07 17:26:09   0.332630   0.489223    0.156592\n",
      "1994-07-23 17:25:43   0.321379   0.739741    0.418361\n",
      "1994-08-08 17:25:16   0.313636   0.281273   -0.032363\n",
      "1994-08-24 17:24:53   0.331741   0.473322    0.141581\n",
      "1994-09-25 17:24:03   0.324816   0.471012    0.146196\n",
      "1994-10-11 17:23:34   0.459006   0.322642   -0.136364\n",
      "1995-06-24 17:13:34   0.325859   0.528826    0.202967\n",
      "1995-07-26 17:12:07   0.329196   0.525589    0.196393\n",
      "1995-08-11 17:11:23   0.325417   0.504131    0.178714\n",
      "1995-08-27 17:10:38   0.327060   0.501755    0.174695\n",
      "1995-09-12 17:09:52   0.335540   0.497957    0.162417\n",
      "1995-10-14 17:08:12   0.301002   0.448448    0.147445\n",
      "1995-10-30 17:07:21   0.277176   0.408010    0.130834\n"
     ]
    }
   ],
   "source": [
    "print(annual_data)"
   ]
  },
  {
   "cell_type": "code",
   "execution_count": 71,
   "id": "e4546705-c1a9-4039-9aa9-7816259c7733",
   "metadata": {},
   "outputs": [
    {
     "data": {
      "text/plain": [
       "<matplotlib.legend.Legend at 0x7fd4a3fe4430>"
      ]
     },
     "execution_count": 71,
     "metadata": {},
     "output_type": "execute_result"
    },
    {
     "data": {
      "image/png": "[encoded data removed]",
      "text/plain": [
       "<Figure size 432x288 with 1 Axes>"
      ]
     },
     "metadata": {
      "needs_background": "light"
     },
     "output_type": "display_data"
    }
   ],
   "source": [
    "import matplotlib.dates as mdates\n",
    "\n",
    "sns.scatterplot(data=annual_data, x=annual_data.index, y='station_0', label = 'USU', marker = 'o')\n",
    "plt.xlabel('Date', fontsize = 15)\n",
    "plt.ylabel('NDVI', fontsize = 15)\n",
    "plt.title('NDVI 1990-1995', fontsize = 18)\n",
    "\n",
    "sns.scatterplot(data=annual_data, x=annual_data.index, y='station_1', label = 'Golf', marker = 'o')\n",
    "\n",
    "date_format = mdates.DateFormatter('%b')  # Format to show month abbreviation\n",
    "plt.gca().xaxis.set_major_formatter(date_format) \n",
    "\n",
    "plt.legend()\n",
    "\n",
    "#plt.savefig('NDVI_annual_plot.png', dpi=300, bbox_inches='tight')"
   ]
  },
  {
   "cell_type": "code",
   "execution_count": 72,
   "id": "cc37e728-3803-480c-8b86-ed08d6d4b153",
   "metadata": {},
   "outputs": [
    {
     "name": "stdout",
     "output_type": "stream",
     "text": [
      "                     station_0  station_1  Difference\n",
      "date                                                 \n",
      "1990-05-09 17:28:01   0.296707   0.492669    0.195962\n",
      "1990-06-10 17:27:58   0.256796   0.494465    0.237669\n",
      "1990-06-26 17:27:57   0.332172   0.500917    0.168745\n",
      "1990-08-13 17:27:46   0.318796   0.447591    0.128795\n",
      "1990-09-14 17:27:38   0.324230   0.460974    0.136744\n",
      "1990-09-30 17:27:26   0.329547   0.485528    0.155981\n",
      "1991-05-12 17:30:11        NaN   0.351893         NaN\n",
      "1991-05-28 17:30:27   0.309528   0.524042    0.214514\n",
      "1991-06-13 17:30:33   0.318162   0.536794    0.218631\n",
      "1991-07-15 17:31:05   0.317550   0.503987    0.186437\n",
      "1991-07-31 17:31:16   0.320774   0.495722    0.174948\n",
      "1991-09-01 17:31:32        NaN   0.344613         NaN\n",
      "1991-10-03 17:31:46   0.310655   0.491076    0.180421\n",
      "1991-10-19 17:31:57   0.248097   0.347046    0.098949\n",
      "1992-05-14 17:31:29   0.335107   0.493360    0.158253\n",
      "1992-05-30 17:31:21   0.328028   0.480674    0.152646\n",
      "1992-07-17 17:30:46   0.319483   0.484260    0.164777\n",
      "1992-08-02 17:30:34   0.455944   0.436316   -0.019628\n",
      "1992-08-18 17:30:18   0.307599   0.360395    0.052795\n",
      "1992-09-03 17:30:04   0.304814   0.368410    0.063596\n",
      "1992-09-19 17:29:48   0.308355   0.414622    0.106266\n",
      "1992-10-05 17:29:24   0.291222   0.409460    0.118238\n",
      "1993-05-01 17:30:14   0.275920   0.444424    0.168504\n",
      "1993-05-17 17:30:16   0.312896   0.493159    0.180263\n",
      "1993-06-18 17:30:17   0.322894   0.523768    0.200875\n",
      "1993-07-04 17:30:11   0.328484   0.523344    0.194860\n",
      "1993-07-20 17:30:12   0.322335   0.508706    0.186371\n",
      "1993-08-05 17:30:12   0.343431   0.524609    0.181178\n",
      "1993-08-21 17:30:11   0.283295   0.554823    0.271528\n",
      "1993-09-06 17:30:09   0.327865   0.522851    0.194986\n",
      "1993-09-22 17:30:05   0.316853   0.492519    0.175666\n",
      "1993-10-24 17:29:55   0.258371   0.415534    0.157164\n",
      "1994-05-20 17:27:13   0.326843   0.519690    0.192846\n",
      "1994-07-07 17:26:09   0.332630   0.489223    0.156592\n",
      "1994-07-23 17:25:43   0.321379   0.739741    0.418361\n",
      "1994-08-08 17:25:16   0.313636   0.281273   -0.032363\n",
      "1994-08-24 17:24:53   0.331741   0.473322    0.141581\n",
      "1994-09-25 17:24:03   0.324816   0.471012    0.146196\n",
      "1994-10-11 17:23:34   0.459006   0.322642   -0.136364\n",
      "1995-06-24 17:13:34   0.325859   0.528826    0.202967\n",
      "1995-07-26 17:12:07   0.329196   0.525589    0.196393\n",
      "1995-08-11 17:11:23   0.325417   0.504131    0.178714\n",
      "1995-08-27 17:10:38   0.327060   0.501755    0.174695\n",
      "1995-09-12 17:09:52   0.335540   0.497957    0.162417\n",
      "1995-10-14 17:08:12   0.301002   0.448448    0.147445\n",
      "1995-10-30 17:07:21   0.277176   0.408010    0.130834\n"
     ]
    }
   ],
   "source": [
    "print(annual_data)"
   ]
  },
  {
   "cell_type": "code",
   "execution_count": 73,
   "id": "20b6e38a-a162-4515-a2db-f8d7343fb163",
   "metadata": {},
   "outputs": [
    {
     "data": {
      "image/png": "[encoded data removed]",
      "text/plain": [
       "<Figure size 432x288 with 1 Axes>"
      ]
     },
     "metadata": {
      "needs_background": "light"
     },
     "output_type": "display_data"
    }
   ],
   "source": [
    "sns.scatterplot(data=annual_data, x=annual_data.index, y='Difference', marker = 'o')\n",
    "plt.xlabel('Date', fontsize = 15)\n",
    "plt.ylabel('NDVI', fontsize = 15)\n",
    "plt.title('NDVI Difference 90-95', fontsize = 18)\n",
    "\n",
    "plt.axhline(y=0, color='black', linestyle='--')\n",
    "\n",
    "date_format = mdates.DateFormatter('%b')  # Format to show month abbreviation\n",
    "plt.gca().xaxis.set_major_formatter(date_format) \n",
    "\n",
    "#plt.savefig('NDVI_annual_diff.png', dpi=300, bbox_inches='tight')"
   ]
  },
  {
   "cell_type": "code",
   "execution_count": null,
   "id": "1ed88f70-a333-42a7-8e65-aaab85c0a37f",
   "metadata": {},
   "outputs": [],
   "source": []
  }
 ],
 "metadata": {
  "kernelspec": {
   "display_name": "Python 3 (ipykernel)",
   "language": "python",
   "name": "python3"
  },
  "language_info": {
   "codemirror_mode": {
    "name": "ipython",
    "version": 3
   },
   "file_extension": ".py",
   "mimetype": "text/x-python",
   "name": "python",
   "nbconvert_exporter": "python",
   "pygments_lexer": "ipython3",
   "version": "3.9.7"
  }
 },
 "nbformat": 4,
 "nbformat_minor": 5
}
