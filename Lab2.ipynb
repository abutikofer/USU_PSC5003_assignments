{
 "cells": [
  {
   "cell_type": "markdown",
   "id": "51f4366f-2944-4058-a249-26d6364c69de",
   "metadata": {},
   "source": [
    "# Lab 2"
   ]
  },
  {
   "cell_type": "code",
   "execution_count": 1,
   "id": "45456d46-21e8-4fc0-a1e3-ec09129f4e34",
   "metadata": {},
   "outputs": [
    {
     "name": "stdout",
     "output_type": "stream",
     "text": [
      "Updated by Ashley Butikofer,  March 08, 2023\n"
     ]
    }
   ],
   "source": [
    "from datetime import date\n",
    "today = date.today()\n",
    "d2 = today.strftime(\"%B %d, %Y\")\n",
    "print(\"Updated by Ashley Butikofer, \", d2)"
   ]
  },
  {
   "cell_type": "markdown",
   "id": "8d0e1802-912a-455a-ab91-9b3e1de05154",
   "metadata": {},
   "source": [
    "### Spatial Resolution"
   ]
  },
  {
   "cell_type": "markdown",
   "id": "d3a0d13a-39db-4fb4-8476-03a3d1e54f39",
   "metadata": {},
   "source": [
    "Spatial resolution means pixel size and projection of IFOV"
   ]
  },
  {
   "cell_type": "code",
   "execution_count": 2,
   "id": "e2f43ebe-af45-469a-970d-378da99c54ce",
   "metadata": {},
   "outputs": [
    {
     "data": {
      "application/vnd.jupyter.widget-view+json": {
       "model_id": "46f2f47346a14136a4a98c149cbada64",
       "version_major": 2,
       "version_minor": 0
      },
      "text/plain": [
       "Map(center=[20, 0], controls=(WidgetControl(options=['position', 'transparent_bg'], widget=HBox(children=(Togg…"
      ]
     },
     "metadata": {},
     "output_type": "display_data"
    }
   ],
   "source": [
    "import ee\n",
    "ee.Initialize()\n",
    "\n",
    "import numpy\n",
    "import geemap\n",
    "\n",
    "Map = geemap.Map() \n",
    "Map"
   ]
  },
  {
   "cell_type": "markdown",
   "id": "d5caca7d-2865-4a06-90b6-7fdb1b1fda2b",
   "metadata": {},
   "source": [
    "### Modis"
   ]
  },
  {
   "cell_type": "code",
   "execution_count": null,
   "id": "d1303b2f-a7ce-40ab-baf3-5d255c41df56",
   "metadata": {},
   "outputs": [],
   "source": [
    "myd09 = ee.ImageCollection(\"MODIS/061/MOD09GQ\")\n",
    "\n",
    "\n",
    "latitude =41.736980\n",
    "longitude = -111.833839\n",
    "sfoPoint = ee.Geometry.Point([longitude, latitude]);"
   ]
  },
  {
   "cell_type": "code",
   "execution_count": null,
   "id": "e456dd39-9f33-4eda-9932-c5ddbd56a371",
   "metadata": {},
   "outputs": [],
   "source": [
    "# Get a surface reflectance image from the MODIS MYD09GA collection.\n",
    "modisImage = ee.Image(myd09.filterBounds(sfoPoint).filterDate('2022-07-05').first());\n",
    "#picks first image\n",
    "\n",
    "modisImage = modisImage.multiply(0.0001)\n",
    "#multiply by scale constant\n",
    "\n",
    "# Print the image band names to the console.\n",
    "band_names = modisImage.bandNames()\n",
    "print(band_names.getInfo())"
   ]
  },
  {
   "cell_type": "code",
   "execution_count": null,
   "id": "f561fae5-477f-4ece-bf2e-62a1f724d21c",
   "metadata": {},
   "outputs": [],
   "source": [
    "# Use these MODIS bands for red, green, blue, respectively.\n",
    "modisBands = ['sur_refl_b02', 'sur_refl_b02', 'sur_refl_b01'];\n",
    "\n",
    "#// Add the image to the map.\n",
    "# url = modisImage.getThumbURL({'dimensions': 700,'bands':modisBands,'min': 0, 'max': 3000,'region':area_to_display})\n",
    "# # print(url)\n",
    "# Image(url=url)\n",
    "\n",
    "# add layer\n",
    "Map.addLayer(modisImage, {'bands':modisBands,'min': 0, 'max':0.6}, name='MODIS Image')\n",
    "Map"
   ]
  },
  {
   "cell_type": "code",
   "execution_count": null,
   "id": "9b8b08b1-12af-44b9-b023-69aa2be61295",
   "metadata": {},
   "outputs": [],
   "source": [
    "# Get the scale of the data from the first band's projection:\n",
    "modisScale = modisImage.select('sur_refl_b01').projection().nominalScale();\n",
    "\n",
    "print('MODIS scale:', modisScale.getInfo());\n"
   ]
  },
  {
   "cell_type": "markdown",
   "id": "6ca04b60-5733-4f25-a25a-3629db065a48",
   "metadata": {},
   "source": [
    "### Aster"
   ]
  },
  {
   "cell_type": "code",
   "execution_count": null,
   "id": "d21b87f6-ece5-47ee-95d4-e846bd3f1572",
   "metadata": {
    "tags": []
   },
   "outputs": [],
   "source": [
    "aster = ee.ImageCollection(\"ASTER/AST_L1T_003\")\n",
    "\n",
    "\n",
    "latitude =41.736980\n",
    "longitude = -111.833839\n",
    "sfoPoint = ee.Geometry.Point([longitude, latitude]);"
   ]
  },
  {
   "cell_type": "code",
   "execution_count": null,
   "id": "1562f1e7-ea86-4936-b236-afd81511bd24",
   "metadata": {},
   "outputs": [],
   "source": [
    "asterImage = ee.Image(aster.filterBounds(sfoPoint).filterDate('2019-04-05', '2019-10-05').sort('CLOUD_COVER').first());\n",
    "\n",
    "band_names = asterImage.bandNames()\n",
    "print(band_names.getInfo())"
   ]
  },
  {
   "cell_type": "code",
   "execution_count": null,
   "id": "65f6ffdb-3fc4-4e7a-acdf-cf1175deb653",
   "metadata": {},
   "outputs": [],
   "source": [
    "#natural color\n",
    "asterBands = ['B02', 'B02', 'B01'];\n",
    "\n",
    "Map.addLayer(asterImage, {'bands':asterBands,'min': 0, 'max':220}, name='ASTER Image')\n",
    "Map"
   ]
  },
  {
   "cell_type": "code",
   "execution_count": null,
   "id": "61dc7168-edca-4405-ab65-b3ef363d9025",
   "metadata": {},
   "outputs": [],
   "source": [
    "#false color\n",
    "asterBands = ['B3N', 'B02', 'B01'];\n",
    "\n",
    "Map.addLayer(asterImage, {'bands':asterBands,'min': 0, 'max':255}, name='ASTER Image')\n",
    "Map"
   ]
  },
  {
   "cell_type": "code",
   "execution_count": null,
   "id": "8b226d49-b90d-46cb-97d0-ac52bb7907a2",
   "metadata": {},
   "outputs": [],
   "source": []
  },
  {
   "cell_type": "markdown",
   "id": "47054100-f9a3-487e-ae85-dcd044adee2d",
   "metadata": {},
   "source": [
    "## Sentinel 2"
   ]
  },
  {
   "cell_type": "code",
   "execution_count": null,
   "id": "97a3bbe4-7f84-4507-82ba-596144e5d267",
   "metadata": {},
   "outputs": [],
   "source": [
    "sentinel2 = ee.ImageCollection(\"COPERNICUS/S2\")\n",
    "\n",
    "#logan ut\n",
    "latitude =41.736980\n",
    "longitude = -111.833839\n",
    "sfoPoint = ee.Geometry.Point([longitude, latitude]);"
   ]
  },
  {
   "cell_type": "code",
   "execution_count": null,
   "id": "7406f499-f218-4292-935e-d04a8a74055f",
   "metadata": {},
   "outputs": [],
   "source": [
    "sentinel2Image = ee.Image(sentinel2.filterBounds(sfoPoint).sort('CLOUD_COVER').first());\n",
    "\n",
    "sentinel2Image = sentinel2Image.multiply(0.0001)\n",
    "\n",
    "band_names = sentinel2Image.bandNames()\n",
    "print(band_names.getInfo())"
   ]
  },
  {
   "cell_type": "code",
   "execution_count": null,
   "id": "93adf1e8-b50e-4fc3-8379-d2b57dbe5a49",
   "metadata": {},
   "outputs": [],
   "source": [
    "#natural color\n",
    "sentinel2Bands = ['B4', 'B3', 'B2'];\n",
    "\n",
    "Map.addLayer(sentinel2Image, {'bands':sentinel2Bands,'min': 0, 'max':0.3}, name='Sentinel 2 Image')\n",
    "Map"
   ]
  },
  {
   "cell_type": "code",
   "execution_count": null,
   "id": "057ce991-52a1-448a-a771-330f4f614f42",
   "metadata": {},
   "outputs": [],
   "source": [
    "#false color\n",
    "sentinel2Bands = ['B8', 'B4', 'B3'];\n",
    "\n",
    "Map.addLayer(sentinel2Image, {'bands':sentinel2Bands,'min': 0, 'max':0.4}, name='Sentinel 2 Image')\n",
    "Map"
   ]
  },
  {
   "cell_type": "markdown",
   "id": "d9ace266-d99b-4542-88fd-8fa43e554f04",
   "metadata": {},
   "source": [
    "### Sentinel 3"
   ]
  },
  {
   "cell_type": "code",
   "execution_count": null,
   "id": "c6bafcaf-7cbe-4421-8918-a733610d6407",
   "metadata": {
    "tags": []
   },
   "outputs": [],
   "source": [
    "sentinel3 = ee.ImageCollection(\"COPERNICUS/S3/OLCI\")\n",
    "\n",
    "latitude =41.736980\n",
    "longitude = -111.833839\n",
    "sfoPoint = ee.Geometry.Point([longitude, latitude]);"
   ]
  },
  {
   "cell_type": "markdown",
   "id": "e272fd1b-7320-48c8-9c33-6f38ab218c52",
   "metadata": {},
   "source": [
    "Couldn't figure out how to apply individual scalars to each band."
   ]
  },
  {
   "cell_type": "code",
   "execution_count": null,
   "id": "2d910a6e-674e-4fd3-a6cf-b6f9f51882f9",
   "metadata": {},
   "outputs": [],
   "source": [
    "sentinel3Image = ee.Image(sentinel3.filterBounds(sfoPoint).first());\n",
    "\n",
    "#sentinel3Image = sentinel3Image.multiply(0.00876539, 0.0123538, 0.0115198)\n",
    "\n",
    "band_names = sentinel3Image.bandNames()\n",
    "print(band_names.getInfo())\n"
   ]
  },
  {
   "cell_type": "code",
   "execution_count": null,
   "id": "d931c290-a172-4717-bb7b-3d59a903d939",
   "metadata": {},
   "outputs": [],
   "source": [
    "#natural color\n",
    "sentinel3Bands = ['Oa08_radiance', 'Oa06_radiance', 'Oa04_radiance'];\n",
    "\n",
    "Map.addLayer(sentinel3Image, {'bands':sentinel3Bands,'min': 0, 'max':6}, name='Sentinel 3 Image')\n",
    "Map"
   ]
  },
  {
   "cell_type": "code",
   "execution_count": null,
   "id": "61f9ab1e-297e-4523-84a5-76b7ffb94bc1",
   "metadata": {},
   "outputs": [],
   "source": [
    "#false color\n",
    "sentinel3Bands = ['Oa17_radiance', 'Oa06_radiance', 'Oa03_radiance'];\n",
    "\n",
    "Map.addLayer(sentinel3Image, {'bands':sentinel3Bands,'min': 0, 'max':6}, name='Sentinel 3 Image')\n",
    "Map"
   ]
  },
  {
   "cell_type": "markdown",
   "id": "99737321-77b7-4477-be96-96015a80a7ba",
   "metadata": {},
   "source": [
    "### Proba"
   ]
  },
  {
   "cell_type": "code",
   "execution_count": null,
   "id": "c9f37839-ff3f-4f58-9919-10e294981e46",
   "metadata": {},
   "outputs": [],
   "source": [
    "proba = ee.ImageCollection(\"VITO/PROBAV/C1/S1_TOC_100M\")\n",
    "\n",
    "latitude =41.736980\n",
    "longitude = -111.833839\n",
    "sfoPoint = ee.Geometry.Point([longitude, latitude]);"
   ]
  },
  {
   "cell_type": "code",
   "execution_count": null,
   "id": "e7ccbef7-33b4-48c9-ba13-433e1b99f704",
   "metadata": {},
   "outputs": [],
   "source": [
    "probaImage = ee.Image(proba.filterBounds(sfoPoint).filterDate('2019-06-27', '2019-10-05').sort('CLOUD_COVER').first());\n",
    "\n",
    "band_names = probaImage.bandNames()\n",
    "print(band_names.getInfo())"
   ]
  },
  {
   "cell_type": "code",
   "execution_count": null,
   "id": "737cfb13-9667-4353-833b-2f23d3d1a068",
   "metadata": {},
   "outputs": [],
   "source": [
    "#natural color\n",
    "probaBands = ['RED', 'RED', 'BLUE'];\n",
    "\n",
    "Map.addLayer(probaImage, {'bands':probaBands,'min': 20, 'max':1500}, name='Proba Image')\n",
    "Map"
   ]
  },
  {
   "cell_type": "code",
   "execution_count": null,
   "id": "3d8fec6b-d1bd-4799-b234-202ec792a5b5",
   "metadata": {
    "tags": []
   },
   "outputs": [],
   "source": [
    "#false color\n",
    "probaBands = ['RED', 'NIR', 'BLUE'];\n",
    "\n",
    "Map.addLayer(probaImage, {'bands':probaBands,'min': 20, 'max':2000}, name='Proba Image')\n",
    "Map"
   ]
  },
  {
   "cell_type": "markdown",
   "id": "baf23956-c386-422a-90f0-5ac7e2bf8e9f",
   "metadata": {},
   "source": [
    "### VIIRS"
   ]
  },
  {
   "cell_type": "code",
   "execution_count": null,
   "id": "1ef8dec9-8f40-4818-82e5-82e9d8fec9d3",
   "metadata": {},
   "outputs": [],
   "source": [
    "viirs = ee.ImageCollection(\"NOAA/VIIRS/001/VNP09GA\")\n",
    "\n",
    "latitude =41.736980\n",
    "longitude = -111.833839\n",
    "sfoPoint = ee.Geometry.Point([longitude, latitude]);"
   ]
  },
  {
   "cell_type": "code",
   "execution_count": null,
   "id": "84d8f672-efa3-4bbc-9497-69b02d913eff",
   "metadata": {},
   "outputs": [],
   "source": [
    "viirsImage = ee.Image(viirs.filterBounds(sfoPoint).filterDate('2019-06-05', '2019-10-05').first());\n",
    "\n",
    "viirsImage = viirsImage.multiply(0.0001)  \n",
    "band_names = viirsImage.bandNames()\n",
    "print(band_names.getInfo())"
   ]
  },
  {
   "cell_type": "code",
   "execution_count": null,
   "id": "d0555417-3768-43e6-ae70-1af0b1c24062",
   "metadata": {},
   "outputs": [],
   "source": [
    "#natural color 321\n",
    "viirsBands = ['M5', 'M4', 'M3'];\n",
    "\n",
    "Map.addLayer(viirsImage, {'bands':viirsBands,'min': 0, 'max':0.3}, name='VIIRS Image')\n",
    "Map"
   ]
  },
  {
   "cell_type": "code",
   "execution_count": null,
   "id": "775fbebd-02e3-4993-9b3d-af3aedb80415",
   "metadata": {},
   "outputs": [],
   "source": [
    "#false color 432\n",
    "viirsBands = ['M7', 'M5', 'M4'];\n",
    "\n",
    "Map.addLayer(viirsImage, {'bands':viirsBands,'min': 0, 'max':0.5}, name='VIIRS Image')\n",
    "Map"
   ]
  },
  {
   "cell_type": "code",
   "execution_count": null,
   "id": "b40c68dc-a7b1-4d57-b2f1-744a66846bb1",
   "metadata": {},
   "outputs": [],
   "source": []
  }
 ],
 "metadata": {
  "kernelspec": {
   "display_name": "Python 3 (ipykernel)",
   "language": "python",
   "name": "python3"
  },
  "language_info": {
   "codemirror_mode": {
    "name": "ipython",
    "version": 3
   },
   "file_extension": ".py",
   "mimetype": "text/x-python",
   "name": "python",
   "nbconvert_exporter": "python",
   "pygments_lexer": "ipython3",
   "version": "3.9.7"
  }
 },
 "nbformat": 4,
 "nbformat_minor": 5
}
